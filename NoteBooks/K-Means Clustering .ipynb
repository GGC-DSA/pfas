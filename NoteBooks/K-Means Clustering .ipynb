{
 "cells": [
  {
   "cell_type": "markdown",
   "id": "ff4e9d4a",
   "metadata": {},
   "source": [
    "Project- PFAS In GA\n",
    "David Luis Hiraldo-Panchana Alg k-means clustering "
   ]
  },
  {
   "cell_type": "markdown",
   "id": "45ae5ced",
   "metadata": {},
   "source": [
    "DB-WaterPro"
   ]
  },
  {
   "cell_type": "markdown",
   "id": "ea35d213",
   "metadata": {},
   "source": [
    "Hypothesis 1 -  So I was thinking to see the correlation between the number of violations and the number of sites visited "
   ]
  },
  {
   "cell_type": "code",
   "execution_count": 1,
   "id": "9943f453",
   "metadata": {},
   "outputs": [],
   "source": [
    "import numpy as np\n",
    "import numpy.random as rand\n",
    "import matplotlib.pyplot as plt"
   ]
  },
  {
   "cell_type": "code",
   "execution_count": 2,
   "id": "bf29894e",
   "metadata": {},
   "outputs": [],
   "source": [
    "\n",
    "# This Python 3 environment comes with many helpful analytics libraries installed\n",
    "# It is defined by the kaggle/python docker image: https://github.com/kaggle/docker-python\n",
    "# For example, here's several helpful packages to load in \n",
    "\n",
    "import numpy as np # linear algebra\n",
    "import pandas as pd # data processing, CSV file I/O (e.g. pd.read_csv)\n",
    "import matplotlib.pyplot as plt # for data visualization\n",
    "import seaborn as sns # for statistical data visualization\n",
    "%matplotlib inline"
   ]
  },
  {
   "cell_type": "code",
   "execution_count": 3,
   "id": "e8bf84b4",
   "metadata": {},
   "outputs": [],
   "source": [
    "water = pd.read_csv(\"WaterPro.csv\")"
   ]
  },
  {
   "cell_type": "code",
   "execution_count": 4,
   "id": "dcc0649c",
   "metadata": {},
   "outputs": [
    {
     "data": {
      "text/plain": [
       "(2379, 10)"
      ]
     },
     "execution_count": 4,
     "metadata": {},
     "output_type": "execute_result"
    }
   ],
   "source": [
    "water.shape"
   ]
  },
  {
   "cell_type": "code",
   "execution_count": 5,
   "id": "69ff5dab",
   "metadata": {},
   "outputs": [
    {
     "data": {
      "text/html": [
       "<div>\n",
       "<style scoped>\n",
       "    .dataframe tbody tr th:only-of-type {\n",
       "        vertical-align: middle;\n",
       "    }\n",
       "\n",
       "    .dataframe tbody tr th {\n",
       "        vertical-align: top;\n",
       "    }\n",
       "\n",
       "    .dataframe thead th {\n",
       "        text-align: right;\n",
       "    }\n",
       "</style>\n",
       "<table border=\"1\" class=\"dataframe\">\n",
       "  <thead>\n",
       "    <tr style=\"text-align: right;\">\n",
       "      <th></th>\n",
       "      <th>PWS ID</th>\n",
       "      <th>PWS Name</th>\n",
       "      <th>PWS Type</th>\n",
       "      <th>Primary Source</th>\n",
       "      <th>Counties Served</th>\n",
       "      <th>Cities Served</th>\n",
       "      <th>PopulationServed Count</th>\n",
       "      <th>Number of Facilities</th>\n",
       "      <th>Number of Violations</th>\n",
       "      <th>Number of Site Visits</th>\n",
       "    </tr>\n",
       "  </thead>\n",
       "  <tbody>\n",
       "    <tr>\n",
       "      <th>0</th>\n",
       "      <td>GA2610011</td>\n",
       "      <td>A B C MOBILE HOME PARK</td>\n",
       "      <td>Community water system</td>\n",
       "      <td>Ground water</td>\n",
       "      <td>Sumter</td>\n",
       "      <td>NaN</td>\n",
       "      <td>75</td>\n",
       "      <td>6</td>\n",
       "      <td>115</td>\n",
       "      <td>5</td>\n",
       "    </tr>\n",
       "    <tr>\n",
       "      <th>1</th>\n",
       "      <td>GA1830006</td>\n",
       "      <td>AARON MOBILE HOME PARK</td>\n",
       "      <td>Community water system</td>\n",
       "      <td>Ground water</td>\n",
       "      <td>Long</td>\n",
       "      <td>NaN</td>\n",
       "      <td>112</td>\n",
       "      <td>4</td>\n",
       "      <td>23</td>\n",
       "      <td>8</td>\n",
       "    </tr>\n",
       "    <tr>\n",
       "      <th>2</th>\n",
       "      <td>GA3150000</td>\n",
       "      <td>ABBEVILLE</td>\n",
       "      <td>Community water system</td>\n",
       "      <td>Ground water</td>\n",
       "      <td>Wilcox</td>\n",
       "      <td>NaN</td>\n",
       "      <td>2,960</td>\n",
       "      <td>10</td>\n",
       "      <td>15</td>\n",
       "      <td>4</td>\n",
       "    </tr>\n",
       "    <tr>\n",
       "      <th>3</th>\n",
       "      <td>GA2770004</td>\n",
       "      <td>ABRAHAM BALDWIN AGRI. COLLEGE</td>\n",
       "      <td>Community water system</td>\n",
       "      <td>Ground water</td>\n",
       "      <td>Tift</td>\n",
       "      <td>TIFTON</td>\n",
       "      <td>4,086</td>\n",
       "      <td>5</td>\n",
       "      <td>26</td>\n",
       "      <td>5</td>\n",
       "    </tr>\n",
       "    <tr>\n",
       "      <th>4</th>\n",
       "      <td>GA1850009</td>\n",
       "      <td>ACADEMY ACRES SUBDIVISION</td>\n",
       "      <td>Community water system</td>\n",
       "      <td>Ground water</td>\n",
       "      <td>Lowndes</td>\n",
       "      <td>VALDOSTA</td>\n",
       "      <td>325</td>\n",
       "      <td>6</td>\n",
       "      <td>6</td>\n",
       "      <td>5</td>\n",
       "    </tr>\n",
       "  </tbody>\n",
       "</table>\n",
       "</div>"
      ],
      "text/plain": [
       "      PWS ID                       PWS Name                PWS Type  \\\n",
       "0  GA2610011         A B C MOBILE HOME PARK  Community water system   \n",
       "1  GA1830006         AARON MOBILE HOME PARK  Community water system   \n",
       "2  GA3150000                      ABBEVILLE  Community water system   \n",
       "3  GA2770004  ABRAHAM BALDWIN AGRI. COLLEGE  Community water system   \n",
       "4  GA1850009      ACADEMY ACRES SUBDIVISION  Community water system   \n",
       "\n",
       "  Primary Source Counties Served Cities Served PopulationServed Count  \\\n",
       "0   Ground water          Sumter           NaN                     75   \n",
       "1   Ground water            Long           NaN                    112   \n",
       "2   Ground water          Wilcox           NaN                  2,960   \n",
       "3   Ground water            Tift        TIFTON                  4,086   \n",
       "4   Ground water         Lowndes      VALDOSTA                    325   \n",
       "\n",
       "   Number of Facilities  Number of Violations  Number of Site Visits  \n",
       "0                     6                   115                      5  \n",
       "1                     4                    23                      8  \n",
       "2                    10                    15                      4  \n",
       "3                     5                    26                      5  \n",
       "4                     6                     6                      5  "
      ]
     },
     "execution_count": 5,
     "metadata": {},
     "output_type": "execute_result"
    }
   ],
   "source": [
    "water.head()"
   ]
  },
  {
   "cell_type": "code",
   "execution_count": 6,
   "id": "942424e5",
   "metadata": {},
   "outputs": [
    {
     "name": "stdout",
     "output_type": "stream",
     "text": [
      "<class 'pandas.core.frame.DataFrame'>\n",
      "RangeIndex: 2379 entries, 0 to 2378\n",
      "Data columns (total 10 columns):\n",
      " #   Column                  Non-Null Count  Dtype \n",
      "---  ------                  --------------  ----- \n",
      " 0   PWS ID                  2379 non-null   object\n",
      " 1   PWS Name                2379 non-null   object\n",
      " 2   PWS Type                2379 non-null   object\n",
      " 3   Primary Source          2379 non-null   object\n",
      " 4   Counties Served         2379 non-null   object\n",
      " 5   Cities Served           1281 non-null   object\n",
      " 6   PopulationServed Count  2379 non-null   object\n",
      " 7   Number of Facilities    2379 non-null   int64 \n",
      " 8   Number of Violations    2379 non-null   int64 \n",
      " 9   Number of Site Visits   2379 non-null   int64 \n",
      "dtypes: int64(3), object(7)\n",
      "memory usage: 186.0+ KB\n"
     ]
    }
   ],
   "source": [
    "water.info()"
   ]
  },
  {
   "cell_type": "code",
   "execution_count": 9,
   "id": "8e7a36a4",
   "metadata": {},
   "outputs": [
    {
     "name": "stdout",
     "output_type": "stream",
     "text": [
      "\n",
      "PWS ID                     object\n",
      "PWS Name                   object\n",
      "PWS Type                   object\n",
      "Primary Source             object\n",
      "Counties Served            object\n",
      "Cities Served              object\n",
      "PopulationServed Count     object\n",
      "Number of Facilities      float64\n",
      "Number of Violations      float64\n",
      "Number of Site Visits     float64\n",
      "dtype: object\n"
     ]
    },
    {
     "data": {
      "text/html": [
       "<div>\n",
       "<style scoped>\n",
       "    .dataframe tbody tr th:only-of-type {\n",
       "        vertical-align: middle;\n",
       "    }\n",
       "\n",
       "    .dataframe tbody tr th {\n",
       "        vertical-align: top;\n",
       "    }\n",
       "\n",
       "    .dataframe thead th {\n",
       "        text-align: right;\n",
       "    }\n",
       "</style>\n",
       "<table border=\"1\" class=\"dataframe\">\n",
       "  <thead>\n",
       "    <tr style=\"text-align: right;\">\n",
       "      <th></th>\n",
       "      <th>PWS ID</th>\n",
       "      <th>PWS Name</th>\n",
       "      <th>PWS Type</th>\n",
       "      <th>Primary Source</th>\n",
       "      <th>Counties Served</th>\n",
       "      <th>Cities Served</th>\n",
       "      <th>PopulationServed Count</th>\n",
       "      <th>Number of Facilities</th>\n",
       "      <th>Number of Violations</th>\n",
       "      <th>Number of Site Visits</th>\n",
       "    </tr>\n",
       "  </thead>\n",
       "  <tbody>\n",
       "    <tr>\n",
       "      <th>0</th>\n",
       "      <td>GA2610011</td>\n",
       "      <td>A B C MOBILE HOME PARK</td>\n",
       "      <td>Community water system</td>\n",
       "      <td>Ground water</td>\n",
       "      <td>Sumter</td>\n",
       "      <td>NaN</td>\n",
       "      <td>75</td>\n",
       "      <td>6.0</td>\n",
       "      <td>115.0</td>\n",
       "      <td>5.0</td>\n",
       "    </tr>\n",
       "    <tr>\n",
       "      <th>1</th>\n",
       "      <td>GA1830006</td>\n",
       "      <td>AARON MOBILE HOME PARK</td>\n",
       "      <td>Community water system</td>\n",
       "      <td>Ground water</td>\n",
       "      <td>Long</td>\n",
       "      <td>NaN</td>\n",
       "      <td>112</td>\n",
       "      <td>4.0</td>\n",
       "      <td>23.0</td>\n",
       "      <td>8.0</td>\n",
       "    </tr>\n",
       "    <tr>\n",
       "      <th>2</th>\n",
       "      <td>GA3150000</td>\n",
       "      <td>ABBEVILLE</td>\n",
       "      <td>Community water system</td>\n",
       "      <td>Ground water</td>\n",
       "      <td>Wilcox</td>\n",
       "      <td>NaN</td>\n",
       "      <td>2,960</td>\n",
       "      <td>10.0</td>\n",
       "      <td>15.0</td>\n",
       "      <td>4.0</td>\n",
       "    </tr>\n",
       "    <tr>\n",
       "      <th>3</th>\n",
       "      <td>GA2770004</td>\n",
       "      <td>ABRAHAM BALDWIN AGRI. COLLEGE</td>\n",
       "      <td>Community water system</td>\n",
       "      <td>Ground water</td>\n",
       "      <td>Tift</td>\n",
       "      <td>TIFTON</td>\n",
       "      <td>4,086</td>\n",
       "      <td>5.0</td>\n",
       "      <td>26.0</td>\n",
       "      <td>5.0</td>\n",
       "    </tr>\n",
       "    <tr>\n",
       "      <th>4</th>\n",
       "      <td>GA1850009</td>\n",
       "      <td>ACADEMY ACRES SUBDIVISION</td>\n",
       "      <td>Community water system</td>\n",
       "      <td>Ground water</td>\n",
       "      <td>Lowndes</td>\n",
       "      <td>VALDOSTA</td>\n",
       "      <td>325</td>\n",
       "      <td>6.0</td>\n",
       "      <td>6.0</td>\n",
       "      <td>5.0</td>\n",
       "    </tr>\n",
       "    <tr>\n",
       "      <th>...</th>\n",
       "      <td>...</td>\n",
       "      <td>...</td>\n",
       "      <td>...</td>\n",
       "      <td>...</td>\n",
       "      <td>...</td>\n",
       "      <td>...</td>\n",
       "      <td>...</td>\n",
       "      <td>...</td>\n",
       "      <td>...</td>\n",
       "      <td>...</td>\n",
       "    </tr>\n",
       "    <tr>\n",
       "      <th>2374</th>\n",
       "      <td>GA0510134</td>\n",
       "      <td>WILMINGTON ISLAND WATER SUPPLY</td>\n",
       "      <td>Transient non-community system</td>\n",
       "      <td>Ground water</td>\n",
       "      <td>Chatham</td>\n",
       "      <td>NaN</td>\n",
       "      <td>100</td>\n",
       "      <td>3.0</td>\n",
       "      <td>33.0</td>\n",
       "      <td>4.0</td>\n",
       "    </tr>\n",
       "    <tr>\n",
       "      <th>2375</th>\n",
       "      <td>GA0450028</td>\n",
       "      <td>WOODLAND CHRISTIAN CAMP</td>\n",
       "      <td>Transient non-community system</td>\n",
       "      <td>Ground water</td>\n",
       "      <td>Carroll</td>\n",
       "      <td>TEMPLE</td>\n",
       "      <td>275</td>\n",
       "      <td>5.0</td>\n",
       "      <td>14.0</td>\n",
       "      <td>3.0</td>\n",
       "    </tr>\n",
       "    <tr>\n",
       "      <th>2376</th>\n",
       "      <td>GA2410098</td>\n",
       "      <td>YMCA-CAMP HIGH HARBOUR</td>\n",
       "      <td>Transient non-community system</td>\n",
       "      <td>Ground water</td>\n",
       "      <td>Rabun</td>\n",
       "      <td>CLAYTON</td>\n",
       "      <td>160</td>\n",
       "      <td>4.0</td>\n",
       "      <td>13.0</td>\n",
       "      <td>3.0</td>\n",
       "    </tr>\n",
       "    <tr>\n",
       "      <th>2377</th>\n",
       "      <td>GA1930006</td>\n",
       "      <td>YODER`S RESTAURANT</td>\n",
       "      <td>Transient non-community system</td>\n",
       "      <td>Ground water</td>\n",
       "      <td>Macon</td>\n",
       "      <td>NaN</td>\n",
       "      <td>200</td>\n",
       "      <td>2.0</td>\n",
       "      <td>10.0</td>\n",
       "      <td>7.0</td>\n",
       "    </tr>\n",
       "    <tr>\n",
       "      <th>2378</th>\n",
       "      <td>GA3110112</td>\n",
       "      <td>YONAH MOUNTAIN VINEYARDS</td>\n",
       "      <td>Transient non-community system</td>\n",
       "      <td>Ground water</td>\n",
       "      <td>White</td>\n",
       "      <td>CLEVELAND</td>\n",
       "      <td>40</td>\n",
       "      <td>3.0</td>\n",
       "      <td>3.0</td>\n",
       "      <td>1.0</td>\n",
       "    </tr>\n",
       "  </tbody>\n",
       "</table>\n",
       "<p>2379 rows × 10 columns</p>\n",
       "</div>"
      ],
      "text/plain": [
       "         PWS ID                        PWS Name  \\\n",
       "0     GA2610011          A B C MOBILE HOME PARK   \n",
       "1     GA1830006          AARON MOBILE HOME PARK   \n",
       "2     GA3150000                       ABBEVILLE   \n",
       "3     GA2770004   ABRAHAM BALDWIN AGRI. COLLEGE   \n",
       "4     GA1850009       ACADEMY ACRES SUBDIVISION   \n",
       "...         ...                             ...   \n",
       "2374  GA0510134  WILMINGTON ISLAND WATER SUPPLY   \n",
       "2375  GA0450028         WOODLAND CHRISTIAN CAMP   \n",
       "2376  GA2410098          YMCA-CAMP HIGH HARBOUR   \n",
       "2377  GA1930006              YODER`S RESTAURANT   \n",
       "2378  GA3110112        YONAH MOUNTAIN VINEYARDS   \n",
       "\n",
       "                            PWS Type Primary Source Counties Served  \\\n",
       "0             Community water system   Ground water          Sumter   \n",
       "1             Community water system   Ground water            Long   \n",
       "2             Community water system   Ground water          Wilcox   \n",
       "3             Community water system   Ground water            Tift   \n",
       "4             Community water system   Ground water         Lowndes   \n",
       "...                              ...            ...             ...   \n",
       "2374  Transient non-community system   Ground water         Chatham   \n",
       "2375  Transient non-community system   Ground water         Carroll   \n",
       "2376  Transient non-community system   Ground water           Rabun   \n",
       "2377  Transient non-community system   Ground water           Macon   \n",
       "2378  Transient non-community system   Ground water           White   \n",
       "\n",
       "     Cities Served PopulationServed Count  Number of Facilities  \\\n",
       "0              NaN                     75                   6.0   \n",
       "1              NaN                    112                   4.0   \n",
       "2              NaN                  2,960                  10.0   \n",
       "3           TIFTON                  4,086                   5.0   \n",
       "4         VALDOSTA                    325                   6.0   \n",
       "...            ...                    ...                   ...   \n",
       "2374           NaN                    100                   3.0   \n",
       "2375        TEMPLE                    275                   5.0   \n",
       "2376       CLAYTON                    160                   4.0   \n",
       "2377           NaN                    200                   2.0   \n",
       "2378     CLEVELAND                     40                   3.0   \n",
       "\n",
       "      Number of Violations  Number of Site Visits  \n",
       "0                    115.0                    5.0  \n",
       "1                     23.0                    8.0  \n",
       "2                     15.0                    4.0  \n",
       "3                     26.0                    5.0  \n",
       "4                      6.0                    5.0  \n",
       "...                    ...                    ...  \n",
       "2374                  33.0                    4.0  \n",
       "2375                  14.0                    3.0  \n",
       "2376                  13.0                    3.0  \n",
       "2377                  10.0                    7.0  \n",
       "2378                   3.0                    1.0  \n",
       "\n",
       "[2379 rows x 10 columns]"
      ]
     },
     "execution_count": 9,
     "metadata": {},
     "output_type": "execute_result"
    }
   ],
   "source": [
    "water['Number of Facilities'] = water['Number of Facilities'].astype(float)\n",
    "water['Number of Violations'] = water['Number of Violations'].astype(float)\n",
    "water['Number of Site Visits'] = water['Number of Site Visits'].astype(float)\n",
    "print()\n",
    "print(water.dtypes)\n",
    "water\n"
   ]
  },
  {
   "cell_type": "code",
   "execution_count": 10,
   "id": "48af4ca3",
   "metadata": {},
   "outputs": [
    {
     "name": "stdout",
     "output_type": "stream",
     "text": [
      "PWS ID                     object\n",
      "PWS Name                   object\n",
      "PWS Type                   object\n",
      "Primary Source             object\n",
      "Counties Served            object\n",
      "Cities Served              object\n",
      "PopulationServed Count     object\n",
      "Number of Facilities      float64\n",
      "Number of Violations      float64\n",
      "Number of Site Visits     float64\n",
      "dtype: object\n"
     ]
    }
   ],
   "source": [
    "print(water.dtypes)"
   ]
  },
  {
   "cell_type": "code",
   "execution_count": 11,
   "id": "08285b1e",
   "metadata": {},
   "outputs": [
    {
     "data": {
      "text/plain": [
       "PWS ID                       0\n",
       "PWS Name                     0\n",
       "PWS Type                     0\n",
       "Primary Source               0\n",
       "Counties Served              0\n",
       "Cities Served             1098\n",
       "PopulationServed Count       0\n",
       "Number of Facilities         0\n",
       "Number of Violations         0\n",
       "Number of Site Visits        0\n",
       "dtype: int64"
      ]
     },
     "execution_count": 11,
     "metadata": {},
     "output_type": "execute_result"
    }
   ],
   "source": [
    "water.isnull().sum()"
   ]
  },
  {
   "cell_type": "code",
   "execution_count": 13,
   "id": "ca0bfc49",
   "metadata": {},
   "outputs": [
    {
     "name": "stdout",
     "output_type": "stream",
     "text": [
      "<class 'pandas.core.frame.DataFrame'>\n",
      "RangeIndex: 2379 entries, 0 to 2378\n",
      "Data columns (total 10 columns):\n",
      " #   Column                  Non-Null Count  Dtype  \n",
      "---  ------                  --------------  -----  \n",
      " 0   PWS ID                  2379 non-null   object \n",
      " 1   PWS Name                2379 non-null   object \n",
      " 2   PWS Type                2379 non-null   object \n",
      " 3   Primary Source          2379 non-null   object \n",
      " 4   Counties Served         2379 non-null   object \n",
      " 5   Cities Served           1281 non-null   object \n",
      " 6   PopulationServed Count  2379 non-null   object \n",
      " 7   Number of Facilities    2379 non-null   float64\n",
      " 8   Number of Violations    2379 non-null   float64\n",
      " 9   Number of Site Visits   2379 non-null   float64\n",
      "dtypes: float64(3), object(7)\n",
      "memory usage: 186.0+ KB\n"
     ]
    }
   ],
   "source": [
    "water.info()"
   ]
  },
  {
   "cell_type": "code",
   "execution_count": 14,
   "id": "27f0b491",
   "metadata": {},
   "outputs": [
    {
     "data": {
      "text/html": [
       "<div>\n",
       "<style scoped>\n",
       "    .dataframe tbody tr th:only-of-type {\n",
       "        vertical-align: middle;\n",
       "    }\n",
       "\n",
       "    .dataframe tbody tr th {\n",
       "        vertical-align: top;\n",
       "    }\n",
       "\n",
       "    .dataframe thead th {\n",
       "        text-align: right;\n",
       "    }\n",
       "</style>\n",
       "<table border=\"1\" class=\"dataframe\">\n",
       "  <thead>\n",
       "    <tr style=\"text-align: right;\">\n",
       "      <th></th>\n",
       "      <th>Number of Facilities</th>\n",
       "      <th>Number of Violations</th>\n",
       "      <th>Number of Site Visits</th>\n",
       "    </tr>\n",
       "  </thead>\n",
       "  <tbody>\n",
       "    <tr>\n",
       "      <th>count</th>\n",
       "      <td>2379.000000</td>\n",
       "      <td>2379.000000</td>\n",
       "      <td>2379.000000</td>\n",
       "    </tr>\n",
       "    <tr>\n",
       "      <th>mean</th>\n",
       "      <td>6.022699</td>\n",
       "      <td>15.356032</td>\n",
       "      <td>5.811686</td>\n",
       "    </tr>\n",
       "    <tr>\n",
       "      <th>std</th>\n",
       "      <td>4.501975</td>\n",
       "      <td>24.584790</td>\n",
       "      <td>5.855264</td>\n",
       "    </tr>\n",
       "    <tr>\n",
       "      <th>min</th>\n",
       "      <td>2.000000</td>\n",
       "      <td>0.000000</td>\n",
       "      <td>0.000000</td>\n",
       "    </tr>\n",
       "    <tr>\n",
       "      <th>25%</th>\n",
       "      <td>4.000000</td>\n",
       "      <td>4.000000</td>\n",
       "      <td>4.000000</td>\n",
       "    </tr>\n",
       "    <tr>\n",
       "      <th>50%</th>\n",
       "      <td>5.000000</td>\n",
       "      <td>9.000000</td>\n",
       "      <td>5.000000</td>\n",
       "    </tr>\n",
       "    <tr>\n",
       "      <th>75%</th>\n",
       "      <td>7.000000</td>\n",
       "      <td>18.000000</td>\n",
       "      <td>6.000000</td>\n",
       "    </tr>\n",
       "    <tr>\n",
       "      <th>max</th>\n",
       "      <td>77.000000</td>\n",
       "      <td>523.000000</td>\n",
       "      <td>70.000000</td>\n",
       "    </tr>\n",
       "  </tbody>\n",
       "</table>\n",
       "</div>"
      ],
      "text/plain": [
       "       Number of Facilities  Number of Violations  Number of Site Visits\n",
       "count           2379.000000           2379.000000            2379.000000\n",
       "mean               6.022699             15.356032               5.811686\n",
       "std                4.501975             24.584790               5.855264\n",
       "min                2.000000              0.000000               0.000000\n",
       "25%                4.000000              4.000000               4.000000\n",
       "50%                5.000000              9.000000               5.000000\n",
       "75%                7.000000             18.000000               6.000000\n",
       "max               77.000000            523.000000              70.000000"
      ]
     },
     "execution_count": 14,
     "metadata": {},
     "output_type": "execute_result"
    }
   ],
   "source": [
    "water.describe()"
   ]
  },
  {
   "cell_type": "code",
   "execution_count": 17,
   "id": "13c72e32",
   "metadata": {},
   "outputs": [
    {
     "data": {
      "text/plain": [
       "array(['GA2610011', 'GA1830006', 'GA3150000', ..., 'GA2410098',\n",
       "       'GA1930006', 'GA3110112'], dtype=object)"
      ]
     },
     "execution_count": 17,
     "metadata": {},
     "output_type": "execute_result"
    }
   ],
   "source": [
    "water['PWS ID'].unique()"
   ]
  },
  {
   "cell_type": "code",
   "execution_count": 18,
   "id": "265a0a52",
   "metadata": {},
   "outputs": [
    {
     "data": {
      "text/plain": [
       "2379"
      ]
     },
     "execution_count": 18,
     "metadata": {},
     "output_type": "execute_result"
    }
   ],
   "source": [
    "len(water['PWS ID'].unique())"
   ]
  },
  {
   "cell_type": "code",
   "execution_count": 19,
   "id": "94f035fa",
   "metadata": {},
   "outputs": [
    {
     "data": {
      "text/plain": [
       "array(['Community water system', 'Non-Transient non-community system',\n",
       "       'Transient non-community system'], dtype=object)"
      ]
     },
     "execution_count": 19,
     "metadata": {},
     "output_type": "execute_result"
    }
   ],
   "source": [
    "water['PWS Type'].unique()"
   ]
  },
  {
   "cell_type": "code",
   "execution_count": 20,
   "id": "14b9ebe0",
   "metadata": {},
   "outputs": [
    {
     "data": {
      "text/plain": [
       "3"
      ]
     },
     "execution_count": 20,
     "metadata": {},
     "output_type": "execute_result"
    }
   ],
   "source": [
    "len(water['PWS Type'].unique())"
   ]
  },
  {
   "cell_type": "code",
   "execution_count": 21,
   "id": "a75f4560",
   "metadata": {},
   "outputs": [],
   "source": [
    "X = water\n",
    "y = water['PWS Type']"
   ]
  },
  {
   "cell_type": "code",
   "execution_count": 22,
   "id": "e77d4047",
   "metadata": {},
   "outputs": [],
   "source": [
    "from sklearn.preprocessing import LabelEncoder\n",
    "\n",
    "le = LabelEncoder()\n",
    "\n",
    "X['PWS Type'] = le.fit_transform(X['PWS Type'])\n",
    "\n",
    "y = le.transform(y)"
   ]
  },
  {
   "cell_type": "code",
   "execution_count": 36,
   "id": "15f70fa9",
   "metadata": {},
   "outputs": [
    {
     "name": "stdout",
     "output_type": "stream",
     "text": [
      "<class 'pandas.core.frame.DataFrame'>\n",
      "RangeIndex: 2379 entries, 0 to 2378\n",
      "Data columns (total 5 columns):\n",
      " #   Column                 Non-Null Count  Dtype  \n",
      "---  ------                 --------------  -----  \n",
      " 0   PWS Type               2379 non-null   int32  \n",
      " 1   Cities Served          1281 non-null   object \n",
      " 2   Number of Facilities   2379 non-null   float64\n",
      " 3   Number of Violations   2379 non-null   float64\n",
      " 4   Number of Site Visits  2379 non-null   float64\n",
      "dtypes: float64(3), int32(1), object(1)\n",
      "memory usage: 83.8+ KB\n"
     ]
    }
   ],
   "source": [
    "X.info()"
   ]
  },
  {
   "cell_type": "code",
   "execution_count": 35,
   "id": "69735ad7",
   "metadata": {},
   "outputs": [
    {
     "ename": "KeyError",
     "evalue": "\"['PWS ID' 'PWS Name' 'Primary Source' 'Counties Served'\\n 'PopulationServed Count'] not found in axis\"",
     "output_type": "error",
     "traceback": [
      "\u001b[1;31m---------------------------------------------------------------------------\u001b[0m",
      "\u001b[1;31mKeyError\u001b[0m                                  Traceback (most recent call last)",
      "\u001b[1;32m<ipython-input-35-de8ff4ff807a>\u001b[0m in \u001b[0;36m<module>\u001b[1;34m\u001b[0m\n\u001b[1;32m----> 1\u001b[1;33m \u001b[0mwater\u001b[0m\u001b[1;33m.\u001b[0m\u001b[0mdrop\u001b[0m\u001b[1;33m(\u001b[0m\u001b[1;33m[\u001b[0m\u001b[1;34m'PWS ID'\u001b[0m\u001b[1;33m,\u001b[0m \u001b[1;34m'PWS Name'\u001b[0m\u001b[1;33m,\u001b[0m\u001b[1;34m'Primary Source'\u001b[0m\u001b[1;33m,\u001b[0m\u001b[1;34m'Counties Served'\u001b[0m\u001b[1;33m,\u001b[0m\u001b[1;34m'PopulationServed Count'\u001b[0m\u001b[1;33m]\u001b[0m\u001b[1;33m,\u001b[0m \u001b[0maxis\u001b[0m\u001b[1;33m=\u001b[0m\u001b[1;36m1\u001b[0m\u001b[1;33m,\u001b[0m \u001b[0minplace\u001b[0m\u001b[1;33m=\u001b[0m\u001b[1;32mTrue\u001b[0m\u001b[1;33m)\u001b[0m\u001b[1;33m\u001b[0m\u001b[1;33m\u001b[0m\u001b[0m\n\u001b[0m",
      "\u001b[1;32m~\\anaconda3\\lib\\site-packages\\pandas\\core\\frame.py\u001b[0m in \u001b[0;36mdrop\u001b[1;34m(self, labels, axis, index, columns, level, inplace, errors)\u001b[0m\n\u001b[0;32m   4306\u001b[0m                 \u001b[0mweight\u001b[0m  \u001b[1;36m1.0\u001b[0m     \u001b[1;36m0.8\u001b[0m\u001b[1;33m\u001b[0m\u001b[1;33m\u001b[0m\u001b[0m\n\u001b[0;32m   4307\u001b[0m         \"\"\"\n\u001b[1;32m-> 4308\u001b[1;33m         return super().drop(\n\u001b[0m\u001b[0;32m   4309\u001b[0m             \u001b[0mlabels\u001b[0m\u001b[1;33m=\u001b[0m\u001b[0mlabels\u001b[0m\u001b[1;33m,\u001b[0m\u001b[1;33m\u001b[0m\u001b[1;33m\u001b[0m\u001b[0m\n\u001b[0;32m   4310\u001b[0m             \u001b[0maxis\u001b[0m\u001b[1;33m=\u001b[0m\u001b[0maxis\u001b[0m\u001b[1;33m,\u001b[0m\u001b[1;33m\u001b[0m\u001b[1;33m\u001b[0m\u001b[0m\n",
      "\u001b[1;32m~\\anaconda3\\lib\\site-packages\\pandas\\core\\generic.py\u001b[0m in \u001b[0;36mdrop\u001b[1;34m(self, labels, axis, index, columns, level, inplace, errors)\u001b[0m\n\u001b[0;32m   4151\u001b[0m         \u001b[1;32mfor\u001b[0m \u001b[0maxis\u001b[0m\u001b[1;33m,\u001b[0m \u001b[0mlabels\u001b[0m \u001b[1;32min\u001b[0m \u001b[0maxes\u001b[0m\u001b[1;33m.\u001b[0m\u001b[0mitems\u001b[0m\u001b[1;33m(\u001b[0m\u001b[1;33m)\u001b[0m\u001b[1;33m:\u001b[0m\u001b[1;33m\u001b[0m\u001b[1;33m\u001b[0m\u001b[0m\n\u001b[0;32m   4152\u001b[0m             \u001b[1;32mif\u001b[0m \u001b[0mlabels\u001b[0m \u001b[1;32mis\u001b[0m \u001b[1;32mnot\u001b[0m \u001b[1;32mNone\u001b[0m\u001b[1;33m:\u001b[0m\u001b[1;33m\u001b[0m\u001b[1;33m\u001b[0m\u001b[0m\n\u001b[1;32m-> 4153\u001b[1;33m                 \u001b[0mobj\u001b[0m \u001b[1;33m=\u001b[0m \u001b[0mobj\u001b[0m\u001b[1;33m.\u001b[0m\u001b[0m_drop_axis\u001b[0m\u001b[1;33m(\u001b[0m\u001b[0mlabels\u001b[0m\u001b[1;33m,\u001b[0m \u001b[0maxis\u001b[0m\u001b[1;33m,\u001b[0m \u001b[0mlevel\u001b[0m\u001b[1;33m=\u001b[0m\u001b[0mlevel\u001b[0m\u001b[1;33m,\u001b[0m \u001b[0merrors\u001b[0m\u001b[1;33m=\u001b[0m\u001b[0merrors\u001b[0m\u001b[1;33m)\u001b[0m\u001b[1;33m\u001b[0m\u001b[1;33m\u001b[0m\u001b[0m\n\u001b[0m\u001b[0;32m   4154\u001b[0m \u001b[1;33m\u001b[0m\u001b[0m\n\u001b[0;32m   4155\u001b[0m         \u001b[1;32mif\u001b[0m \u001b[0minplace\u001b[0m\u001b[1;33m:\u001b[0m\u001b[1;33m\u001b[0m\u001b[1;33m\u001b[0m\u001b[0m\n",
      "\u001b[1;32m~\\anaconda3\\lib\\site-packages\\pandas\\core\\generic.py\u001b[0m in \u001b[0;36m_drop_axis\u001b[1;34m(self, labels, axis, level, errors)\u001b[0m\n\u001b[0;32m   4186\u001b[0m                 \u001b[0mnew_axis\u001b[0m \u001b[1;33m=\u001b[0m \u001b[0maxis\u001b[0m\u001b[1;33m.\u001b[0m\u001b[0mdrop\u001b[0m\u001b[1;33m(\u001b[0m\u001b[0mlabels\u001b[0m\u001b[1;33m,\u001b[0m \u001b[0mlevel\u001b[0m\u001b[1;33m=\u001b[0m\u001b[0mlevel\u001b[0m\u001b[1;33m,\u001b[0m \u001b[0merrors\u001b[0m\u001b[1;33m=\u001b[0m\u001b[0merrors\u001b[0m\u001b[1;33m)\u001b[0m\u001b[1;33m\u001b[0m\u001b[1;33m\u001b[0m\u001b[0m\n\u001b[0;32m   4187\u001b[0m             \u001b[1;32melse\u001b[0m\u001b[1;33m:\u001b[0m\u001b[1;33m\u001b[0m\u001b[1;33m\u001b[0m\u001b[0m\n\u001b[1;32m-> 4188\u001b[1;33m                 \u001b[0mnew_axis\u001b[0m \u001b[1;33m=\u001b[0m \u001b[0maxis\u001b[0m\u001b[1;33m.\u001b[0m\u001b[0mdrop\u001b[0m\u001b[1;33m(\u001b[0m\u001b[0mlabels\u001b[0m\u001b[1;33m,\u001b[0m \u001b[0merrors\u001b[0m\u001b[1;33m=\u001b[0m\u001b[0merrors\u001b[0m\u001b[1;33m)\u001b[0m\u001b[1;33m\u001b[0m\u001b[1;33m\u001b[0m\u001b[0m\n\u001b[0m\u001b[0;32m   4189\u001b[0m             \u001b[0mresult\u001b[0m \u001b[1;33m=\u001b[0m \u001b[0mself\u001b[0m\u001b[1;33m.\u001b[0m\u001b[0mreindex\u001b[0m\u001b[1;33m(\u001b[0m\u001b[1;33m**\u001b[0m\u001b[1;33m{\u001b[0m\u001b[0maxis_name\u001b[0m\u001b[1;33m:\u001b[0m \u001b[0mnew_axis\u001b[0m\u001b[1;33m}\u001b[0m\u001b[1;33m)\u001b[0m\u001b[1;33m\u001b[0m\u001b[1;33m\u001b[0m\u001b[0m\n\u001b[0;32m   4190\u001b[0m \u001b[1;33m\u001b[0m\u001b[0m\n",
      "\u001b[1;32m~\\anaconda3\\lib\\site-packages\\pandas\\core\\indexes\\base.py\u001b[0m in \u001b[0;36mdrop\u001b[1;34m(self, labels, errors)\u001b[0m\n\u001b[0;32m   5589\u001b[0m         \u001b[1;32mif\u001b[0m \u001b[0mmask\u001b[0m\u001b[1;33m.\u001b[0m\u001b[0many\u001b[0m\u001b[1;33m(\u001b[0m\u001b[1;33m)\u001b[0m\u001b[1;33m:\u001b[0m\u001b[1;33m\u001b[0m\u001b[1;33m\u001b[0m\u001b[0m\n\u001b[0;32m   5590\u001b[0m             \u001b[1;32mif\u001b[0m \u001b[0merrors\u001b[0m \u001b[1;33m!=\u001b[0m \u001b[1;34m\"ignore\"\u001b[0m\u001b[1;33m:\u001b[0m\u001b[1;33m\u001b[0m\u001b[1;33m\u001b[0m\u001b[0m\n\u001b[1;32m-> 5591\u001b[1;33m                 \u001b[1;32mraise\u001b[0m \u001b[0mKeyError\u001b[0m\u001b[1;33m(\u001b[0m\u001b[1;34mf\"{labels[mask]} not found in axis\"\u001b[0m\u001b[1;33m)\u001b[0m\u001b[1;33m\u001b[0m\u001b[1;33m\u001b[0m\u001b[0m\n\u001b[0m\u001b[0;32m   5592\u001b[0m             \u001b[0mindexer\u001b[0m \u001b[1;33m=\u001b[0m \u001b[0mindexer\u001b[0m\u001b[1;33m[\u001b[0m\u001b[1;33m~\u001b[0m\u001b[0mmask\u001b[0m\u001b[1;33m]\u001b[0m\u001b[1;33m\u001b[0m\u001b[1;33m\u001b[0m\u001b[0m\n\u001b[0;32m   5593\u001b[0m         \u001b[1;32mreturn\u001b[0m \u001b[0mself\u001b[0m\u001b[1;33m.\u001b[0m\u001b[0mdelete\u001b[0m\u001b[1;33m(\u001b[0m\u001b[0mindexer\u001b[0m\u001b[1;33m)\u001b[0m\u001b[1;33m\u001b[0m\u001b[1;33m\u001b[0m\u001b[0m\n",
      "\u001b[1;31mKeyError\u001b[0m: \"['PWS ID' 'PWS Name' 'Primary Source' 'Counties Served'\\n 'PopulationServed Count'] not found in axis\""
     ]
    }
   ],
   "source": [
    "water.drop(['PWS ID', 'PWS Name','Primary Source','Counties Served','PopulationServed Count'], axis=1, inplace=True)"
   ]
  },
  {
   "cell_type": "code",
   "execution_count": 37,
   "id": "c97d96f3",
   "metadata": {},
   "outputs": [
    {
     "name": "stdout",
     "output_type": "stream",
     "text": [
      "<class 'pandas.core.frame.DataFrame'>\n",
      "RangeIndex: 2379 entries, 0 to 2378\n",
      "Data columns (total 5 columns):\n",
      " #   Column                 Non-Null Count  Dtype  \n",
      "---  ------                 --------------  -----  \n",
      " 0   PWS Type               2379 non-null   int32  \n",
      " 1   Cities Served          1281 non-null   object \n",
      " 2   Number of Facilities   2379 non-null   float64\n",
      " 3   Number of Violations   2379 non-null   float64\n",
      " 4   Number of Site Visits  2379 non-null   float64\n",
      "dtypes: float64(3), int32(1), object(1)\n",
      "memory usage: 83.8+ KB\n"
     ]
    }
   ],
   "source": [
    "water.info()"
   ]
  },
  {
   "cell_type": "code",
   "execution_count": 39,
   "id": "fd408455",
   "metadata": {},
   "outputs": [],
   "source": [
    "water.drop(['Cities Served'], axis=1, inplace=True)\n"
   ]
  },
  {
   "cell_type": "code",
   "execution_count": 40,
   "id": "10e87d24",
   "metadata": {},
   "outputs": [
    {
     "name": "stdout",
     "output_type": "stream",
     "text": [
      "<class 'pandas.core.frame.DataFrame'>\n",
      "RangeIndex: 2379 entries, 0 to 2378\n",
      "Data columns (total 4 columns):\n",
      " #   Column                 Non-Null Count  Dtype  \n",
      "---  ------                 --------------  -----  \n",
      " 0   PWS Type               2379 non-null   int32  \n",
      " 1   Number of Facilities   2379 non-null   float64\n",
      " 2   Number of Violations   2379 non-null   float64\n",
      " 3   Number of Site Visits  2379 non-null   float64\n",
      "dtypes: float64(3), int32(1)\n",
      "memory usage: 65.2 KB\n"
     ]
    }
   ],
   "source": [
    "water.info()"
   ]
  },
  {
   "cell_type": "code",
   "execution_count": 41,
   "id": "9bd4c36c",
   "metadata": {},
   "outputs": [],
   "source": [
    "cols = X.columns"
   ]
  },
  {
   "cell_type": "code",
   "execution_count": null,
   "id": "8c5e0daf",
   "metadata": {},
   "outputs": [],
   "source": []
  },
  {
   "cell_type": "code",
   "execution_count": null,
   "id": "bfa601fa",
   "metadata": {},
   "outputs": [],
   "source": []
  },
  {
   "cell_type": "code",
   "execution_count": 42,
   "id": "5e16027c",
   "metadata": {},
   "outputs": [],
   "source": [
    "from sklearn.preprocessing import MinMaxScaler\n",
    "\n",
    "ms = MinMaxScaler()\n",
    "\n",
    "X = ms.fit_transform(X)"
   ]
  },
  {
   "cell_type": "code",
   "execution_count": 47,
   "id": "6d910253",
   "metadata": {},
   "outputs": [],
   "source": [
    "X = pd.DataFrame(X, columns=[cols])"
   ]
  },
  {
   "cell_type": "code",
   "execution_count": 48,
   "id": "400d85a1",
   "metadata": {},
   "outputs": [
    {
     "data": {
      "text/html": [
       "<div>\n",
       "<style scoped>\n",
       "    .dataframe tbody tr th:only-of-type {\n",
       "        vertical-align: middle;\n",
       "    }\n",
       "\n",
       "    .dataframe tbody tr th {\n",
       "        vertical-align: top;\n",
       "    }\n",
       "\n",
       "    .dataframe thead tr th {\n",
       "        text-align: left;\n",
       "    }\n",
       "</style>\n",
       "<table border=\"1\" class=\"dataframe\">\n",
       "  <thead>\n",
       "    <tr>\n",
       "      <th></th>\n",
       "      <th>PWS Type</th>\n",
       "      <th>Number of Facilities</th>\n",
       "      <th>Number of Violations</th>\n",
       "      <th>Number of Site Visits</th>\n",
       "    </tr>\n",
       "  </thead>\n",
       "  <tbody>\n",
       "    <tr>\n",
       "      <th>0</th>\n",
       "      <td>0.0</td>\n",
       "      <td>0.053333</td>\n",
       "      <td>0.219885</td>\n",
       "      <td>0.071429</td>\n",
       "    </tr>\n",
       "    <tr>\n",
       "      <th>1</th>\n",
       "      <td>0.0</td>\n",
       "      <td>0.026667</td>\n",
       "      <td>0.043977</td>\n",
       "      <td>0.114286</td>\n",
       "    </tr>\n",
       "    <tr>\n",
       "      <th>2</th>\n",
       "      <td>0.0</td>\n",
       "      <td>0.106667</td>\n",
       "      <td>0.028681</td>\n",
       "      <td>0.057143</td>\n",
       "    </tr>\n",
       "    <tr>\n",
       "      <th>3</th>\n",
       "      <td>0.0</td>\n",
       "      <td>0.040000</td>\n",
       "      <td>0.049713</td>\n",
       "      <td>0.071429</td>\n",
       "    </tr>\n",
       "    <tr>\n",
       "      <th>4</th>\n",
       "      <td>0.0</td>\n",
       "      <td>0.053333</td>\n",
       "      <td>0.011472</td>\n",
       "      <td>0.071429</td>\n",
       "    </tr>\n",
       "  </tbody>\n",
       "</table>\n",
       "</div>"
      ],
      "text/plain": [
       "  PWS Type Number of Facilities Number of Violations Number of Site Visits\n",
       "0      0.0             0.053333             0.219885              0.071429\n",
       "1      0.0             0.026667             0.043977              0.114286\n",
       "2      0.0             0.106667             0.028681              0.057143\n",
       "3      0.0             0.040000             0.049713              0.071429\n",
       "4      0.0             0.053333             0.011472              0.071429"
      ]
     },
     "execution_count": 48,
     "metadata": {},
     "output_type": "execute_result"
    }
   ],
   "source": [
    "X.head()"
   ]
  },
  {
   "cell_type": "code",
   "execution_count": 49,
   "id": "c676a714",
   "metadata": {},
   "outputs": [
    {
     "data": {
      "text/plain": [
       "KMeans(n_clusters=2, random_state=0)"
      ]
     },
     "execution_count": 49,
     "metadata": {},
     "output_type": "execute_result"
    }
   ],
   "source": [
    "from sklearn.cluster import KMeans\n",
    "\n",
    "kmeans = KMeans(n_clusters=2, random_state=0) \n",
    "\n",
    "kmeans.fit(X)"
   ]
  },
  {
   "cell_type": "code",
   "execution_count": 50,
   "id": "67678da9",
   "metadata": {},
   "outputs": [
    {
     "data": {
      "text/plain": [
       "array([[-1.30451205e-15,  6.43478261e-02,  3.47770665e-02,\n",
       "         9.60165631e-02],\n",
       "       [ 8.68501529e-01,  2.53822630e-02,  1.50770958e-02,\n",
       "         4.87549148e-02]])"
      ]
     },
     "execution_count": 50,
     "metadata": {},
     "output_type": "execute_result"
    }
   ],
   "source": [
    "kmeans.cluster_centers_"
   ]
  },
  {
   "cell_type": "code",
   "execution_count": 51,
   "id": "c5643d50",
   "metadata": {},
   "outputs": [
    {
     "data": {
      "text/plain": [
       "60.189092575144386"
      ]
     },
     "execution_count": 51,
     "metadata": {},
     "output_type": "execute_result"
    }
   ],
   "source": [
    "kmeans.inertia_"
   ]
  },
  {
   "cell_type": "code",
   "execution_count": 52,
   "id": "4465dc03",
   "metadata": {},
   "outputs": [
    {
     "name": "stdout",
     "output_type": "stream",
     "text": [
      "Result: 1897 out of 2379 samples were correctly labeled.\n"
     ]
    }
   ],
   "source": [
    "labels = kmeans.labels_\n",
    "\n",
    "# check how many of the samples were correctly labeled\n",
    "correct_labels = sum(y == labels)\n",
    "\n",
    "print(\"Result: %d out of %d samples were correctly labeled.\" % (correct_labels, y.size))"
   ]
  },
  {
   "cell_type": "code",
   "execution_count": 53,
   "id": "21cbcac7",
   "metadata": {},
   "outputs": [
    {
     "name": "stdout",
     "output_type": "stream",
     "text": [
      "Accuracy score: 0.80\n"
     ]
    }
   ],
   "source": [
    "print('Accuracy score: {0:0.2f}'. format(correct_labels/float(y.size)))"
   ]
  },
  {
   "cell_type": "code",
   "execution_count": 54,
   "id": "01565c00",
   "metadata": {},
   "outputs": [
    {
     "data": {
      "image/png": "[encoded data removed]",
      "text/plain": [
       "<Figure size 432x288 with 1 Axes>"
      ]
     },
     "metadata": {
      "needs_background": "light"
     },
     "output_type": "display_data"
    }
   ],
   "source": [
    "from sklearn.cluster import KMeans\n",
    "cs = []\n",
    "for i in range(1, 11):\n",
    "    kmeans = KMeans(n_clusters = i, init = 'k-means++', max_iter = 300, n_init = 10, random_state = 0)\n",
    "    kmeans.fit(X)\n",
    "    cs.append(kmeans.inertia_)\n",
    "plt.plot(range(1, 11), cs)\n",
    "plt.title('The Elbow Method')\n",
    "plt.xlabel('Number of clusters')\n",
    "plt.ylabel('CS')\n",
    "plt.show()"
   ]
  },
  {
   "cell_type": "code",
   "execution_count": 55,
   "id": "454dbd74",
   "metadata": {},
   "outputs": [
    {
     "name": "stdout",
     "output_type": "stream",
     "text": [
      "Result: 1897 out of 2379 samples were correctly labeled.\n",
      "Accuracy score: 0.80\n"
     ]
    }
   ],
   "source": [
    "from sklearn.cluster import KMeans\n",
    "\n",
    "kmeans = KMeans(n_clusters=2,random_state=0)\n",
    "\n",
    "kmeans.fit(X)\n",
    "\n",
    "labels = kmeans.labels_\n",
    "\n",
    "# check how many of the samples were correctly labeled\n",
    "\n",
    "correct_labels = sum(y == labels)\n",
    "\n",
    "print(\"Result: %d out of %d samples were correctly labeled.\" % (correct_labels, y.size))\n",
    "\n",
    "print('Accuracy score: {0:0.2f}'. format(correct_labels/float(y.size)))"
   ]
  },
  {
   "cell_type": "code",
   "execution_count": 56,
   "id": "8e67504e",
   "metadata": {},
   "outputs": [
    {
     "name": "stdout",
     "output_type": "stream",
     "text": [
      "Result: 1725 out of 2379 samples were correctly labeled.\n",
      "Accuracy score: 0.73\n"
     ]
    }
   ],
   "source": [
    "kmeans = KMeans(n_clusters=3, random_state=0)\n",
    "\n",
    "kmeans.fit(X)\n",
    "\n",
    "# check how many of the samples were correctly labeled\n",
    "labels = kmeans.labels_\n",
    "\n",
    "correct_labels = sum(y == labels)\n",
    "print(\"Result: %d out of %d samples were correctly labeled.\" % (correct_labels, y.size))\n",
    "print('Accuracy score: {0:0.2f}'. format(correct_labels/float(y.size)))"
   ]
  },
  {
   "cell_type": "code",
   "execution_count": 57,
   "id": "3fa73436",
   "metadata": {},
   "outputs": [
    {
     "name": "stdout",
     "output_type": "stream",
     "text": [
      "Result: 0 out of 2379 samples were correctly labeled.\n",
      "Accuracy score: 0.00\n"
     ]
    }
   ],
   "source": [
    "kmeans = KMeans(n_clusters=4, random_state=0)\n",
    "\n",
    "kmeans.fit(X)\n",
    "\n",
    "# check how many of the samples were correctly labeled\n",
    "labels = kmeans.labels_\n",
    "\n",
    "correct_labels = sum(y == labels)\n",
    "print(\"Result: %d out of %d samples were correctly labeled.\" % (correct_labels, y.size))\n",
    "print('Accuracy score: {0:0.2f}'. format(correct_labels/float(y.size)))"
   ]
  },
  {
   "cell_type": "code",
   "execution_count": null,
   "id": "7186f1a0",
   "metadata": {},
   "outputs": [],
   "source": []
  },
  {
   "cell_type": "code",
   "execution_count": null,
   "id": "ceadc3d2",
   "metadata": {},
   "outputs": [],
   "source": []
  },
  {
   "cell_type": "code",
   "execution_count": null,
   "id": "cf54f5ef",
   "metadata": {},
   "outputs": [],
   "source": []
  },
  {
   "cell_type": "code",
   "execution_count": null,
   "id": "14526c4d",
   "metadata": {},
   "outputs": [],
   "source": []
  },
  {
   "cell_type": "code",
   "execution_count": null,
   "id": "50748853",
   "metadata": {},
   "outputs": [],
   "source": []
  },
  {
   "cell_type": "code",
   "execution_count": null,
   "id": "b0871b96",
   "metadata": {},
   "outputs": [],
   "source": []
  },
  {
   "cell_type": "code",
   "execution_count": null,
   "id": "aff2d63c",
   "metadata": {},
   "outputs": [],
   "source": []
  },
  {
   "cell_type": "code",
   "execution_count": null,
   "id": "8f0195aa",
   "metadata": {},
   "outputs": [],
   "source": []
  },
  {
   "cell_type": "code",
   "execution_count": null,
   "id": "5f3f5e5d",
   "metadata": {},
   "outputs": [],
   "source": []
  }
 ],
 "metadata": {
  "kernelspec": {
   "display_name": "Python 3",
   "language": "python",
   "name": "python3"
  },
  "language_info": {
   "codemirror_mode": {
    "name": "ipython",
    "version": 3
   },
   "file_extension": ".py",
   "mimetype": "text/x-python",
   "name": "python",
   "nbconvert_exporter": "python",
   "pygments_lexer": "ipython3",
   "version": "3.8.8"
  }
 },
 "nbformat": 4,
 "nbformat_minor": 5
}
