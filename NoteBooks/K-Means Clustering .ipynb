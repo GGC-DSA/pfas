{
 "cells": [
  {
   "cell_type": "markdown",
   "id": "ff4e9d4a",
   "metadata": {},
   "source": [
    "Project- PFAS In GA\n",
    "David Luis Hiraldo-Panchana Alg k-means clustering "
   ]
  },
  {
   "cell_type": "markdown",
   "id": "45ae5ced",
   "metadata": {},
   "source": [
    "DB-WaterPro"
   ]
  },
  {
   "cell_type": "markdown",
   "id": "ea35d213",
   "metadata": {},
   "source": [
    "Hypothesis 1 -  So I was thinking to see the correlation between the number of violations and the number of sites visited "
   ]
  },
  {
   "cell_type": "code",
   "execution_count": 29,
   "id": "9943f453",
   "metadata": {},
   "outputs": [],
   "source": [
    "import numpy as np\n",
    "import numpy.random as rand\n",
    "import matplotlib.pyplot as plt"
   ]
  },
  {
   "cell_type": "code",
   "execution_count": 4,
   "id": "bf29894e",
   "metadata": {},
   "outputs": [],
   "source": [
    "\n",
    "# This Python 3 environment comes with many helpful analytics libraries installed\n",
    "# It is defined by the kaggle/python docker image: https://github.com/kaggle/docker-python\n",
    "# For example, here's several helpful packages to load in \n",
    "\n",
    "import numpy as np # linear algebra\n",
    "import pandas as pd # data processing, CSV file I/O (e.g. pd.read_csv)\n",
    "import matplotlib.pyplot as plt # for data visualization\n",
    "import seaborn as sns # for statistical data visualization\n",
    "%matplotlib inline"
   ]
  },
  {
   "cell_type": "code",
   "execution_count": 5,
   "id": "e8bf84b4",
   "metadata": {},
   "outputs": [],
   "source": [
    "water = pd.read_csv(\"WaterPro.csv\")"
   ]
  },
  {
   "cell_type": "code",
   "execution_count": 5,
   "id": "dcc0649c",
   "metadata": {},
   "outputs": [
    {
     "data": {
      "text/plain": [
       "(2379, 10)"
      ]
     },
     "execution_count": 5,
     "metadata": {},
     "output_type": "execute_result"
    }
   ],
   "source": [
    "water.shape"
   ]
  },
  {
   "cell_type": "code",
   "execution_count": 6,
   "id": "69ff5dab",
   "metadata": {},
   "outputs": [
    {
     "data": {
      "text/html": [
       "<div>\n",
       "<style scoped>\n",
       "    .dataframe tbody tr th:only-of-type {\n",
       "        vertical-align: middle;\n",
       "    }\n",
       "\n",
       "    .dataframe tbody tr th {\n",
       "        vertical-align: top;\n",
       "    }\n",
       "\n",
       "    .dataframe thead th {\n",
       "        text-align: right;\n",
       "    }\n",
       "</style>\n",
       "<table border=\"1\" class=\"dataframe\">\n",
       "  <thead>\n",
       "    <tr style=\"text-align: right;\">\n",
       "      <th></th>\n",
       "      <th>PWS ID</th>\n",
       "      <th>PWS Name</th>\n",
       "      <th>PWS Type</th>\n",
       "      <th>Primary Source</th>\n",
       "      <th>Counties Served</th>\n",
       "      <th>Cities Served</th>\n",
       "      <th>PopulationServed Count</th>\n",
       "      <th>Number of Facilities</th>\n",
       "      <th>Number of Violations</th>\n",
       "      <th>Number of Site Visits</th>\n",
       "    </tr>\n",
       "  </thead>\n",
       "  <tbody>\n",
       "    <tr>\n",
       "      <th>0</th>\n",
       "      <td>GA2610011</td>\n",
       "      <td>A B C MOBILE HOME PARK</td>\n",
       "      <td>Community water system</td>\n",
       "      <td>Ground water</td>\n",
       "      <td>Sumter</td>\n",
       "      <td>NaN</td>\n",
       "      <td>75</td>\n",
       "      <td>6</td>\n",
       "      <td>115</td>\n",
       "      <td>5</td>\n",
       "    </tr>\n",
       "    <tr>\n",
       "      <th>1</th>\n",
       "      <td>GA1830006</td>\n",
       "      <td>AARON MOBILE HOME PARK</td>\n",
       "      <td>Community water system</td>\n",
       "      <td>Ground water</td>\n",
       "      <td>Long</td>\n",
       "      <td>NaN</td>\n",
       "      <td>112</td>\n",
       "      <td>4</td>\n",
       "      <td>23</td>\n",
       "      <td>8</td>\n",
       "    </tr>\n",
       "    <tr>\n",
       "      <th>2</th>\n",
       "      <td>GA3150000</td>\n",
       "      <td>ABBEVILLE</td>\n",
       "      <td>Community water system</td>\n",
       "      <td>Ground water</td>\n",
       "      <td>Wilcox</td>\n",
       "      <td>NaN</td>\n",
       "      <td>2,960</td>\n",
       "      <td>10</td>\n",
       "      <td>15</td>\n",
       "      <td>4</td>\n",
       "    </tr>\n",
       "    <tr>\n",
       "      <th>3</th>\n",
       "      <td>GA2770004</td>\n",
       "      <td>ABRAHAM BALDWIN AGRI. COLLEGE</td>\n",
       "      <td>Community water system</td>\n",
       "      <td>Ground water</td>\n",
       "      <td>Tift</td>\n",
       "      <td>TIFTON</td>\n",
       "      <td>4,086</td>\n",
       "      <td>5</td>\n",
       "      <td>26</td>\n",
       "      <td>5</td>\n",
       "    </tr>\n",
       "    <tr>\n",
       "      <th>4</th>\n",
       "      <td>GA1850009</td>\n",
       "      <td>ACADEMY ACRES SUBDIVISION</td>\n",
       "      <td>Community water system</td>\n",
       "      <td>Ground water</td>\n",
       "      <td>Lowndes</td>\n",
       "      <td>VALDOSTA</td>\n",
       "      <td>325</td>\n",
       "      <td>6</td>\n",
       "      <td>6</td>\n",
       "      <td>5</td>\n",
       "    </tr>\n",
       "  </tbody>\n",
       "</table>\n",
       "</div>"
      ],
      "text/plain": [
       "      PWS ID                       PWS Name                PWS Type  \\\n",
       "0  GA2610011         A B C MOBILE HOME PARK  Community water system   \n",
       "1  GA1830006         AARON MOBILE HOME PARK  Community water system   \n",
       "2  GA3150000                      ABBEVILLE  Community water system   \n",
       "3  GA2770004  ABRAHAM BALDWIN AGRI. COLLEGE  Community water system   \n",
       "4  GA1850009      ACADEMY ACRES SUBDIVISION  Community water system   \n",
       "\n",
       "  Primary Source Counties Served Cities Served PopulationServed Count  \\\n",
       "0   Ground water          Sumter           NaN                     75   \n",
       "1   Ground water            Long           NaN                    112   \n",
       "2   Ground water          Wilcox           NaN                  2,960   \n",
       "3   Ground water            Tift        TIFTON                  4,086   \n",
       "4   Ground water         Lowndes      VALDOSTA                    325   \n",
       "\n",
       "   Number of Facilities  Number of Violations  Number of Site Visits  \n",
       "0                     6                   115                      5  \n",
       "1                     4                    23                      8  \n",
       "2                    10                    15                      4  \n",
       "3                     5                    26                      5  \n",
       "4                     6                     6                      5  "
      ]
     },
     "execution_count": 6,
     "metadata": {},
     "output_type": "execute_result"
    }
   ],
   "source": [
    "water.head()"
   ]
  },
  {
   "cell_type": "code",
   "execution_count": 7,
   "id": "942424e5",
   "metadata": {},
   "outputs": [
    {
     "name": "stdout",
     "output_type": "stream",
     "text": [
      "<class 'pandas.core.frame.DataFrame'>\n",
      "RangeIndex: 2379 entries, 0 to 2378\n",
      "Data columns (total 10 columns):\n",
      " #   Column                  Non-Null Count  Dtype \n",
      "---  ------                  --------------  ----- \n",
      " 0   PWS ID                  2379 non-null   object\n",
      " 1   PWS Name                2379 non-null   object\n",
      " 2   PWS Type                2379 non-null   object\n",
      " 3   Primary Source          2379 non-null   object\n",
      " 4   Counties Served         2379 non-null   object\n",
      " 5   Cities Served           1281 non-null   object\n",
      " 6   PopulationServed Count  2379 non-null   object\n",
      " 7   Number of Facilities    2379 non-null   int64 \n",
      " 8   Number of Violations    2379 non-null   int64 \n",
      " 9   Number of Site Visits   2379 non-null   int64 \n",
      "dtypes: int64(3), object(7)\n",
      "memory usage: 186.0+ KB\n"
     ]
    }
   ],
   "source": [
    "water.info()"
   ]
  },
  {
   "cell_type": "code",
   "execution_count": 10,
   "id": "8e7a36a4",
   "metadata": {},
   "outputs": [
    {
     "name": "stdout",
     "output_type": "stream",
     "text": [
      "\n",
      "PWS ID                     object\n",
      "PWS Name                   object\n",
      "PWS Type                   object\n",
      "Primary Source             object\n",
      "Counties Served            object\n",
      "Cities Served              object\n",
      "PopulationServed Count     object\n",
      "Number of Facilities      float64\n",
      "Number of Violations      float64\n",
      "Number of Site Visits     float64\n",
      "dtype: object\n"
     ]
    },
    {
     "data": {
      "text/html": [
       "<div>\n",
       "<style scoped>\n",
       "    .dataframe tbody tr th:only-of-type {\n",
       "        vertical-align: middle;\n",
       "    }\n",
       "\n",
       "    .dataframe tbody tr th {\n",
       "        vertical-align: top;\n",
       "    }\n",
       "\n",
       "    .dataframe thead th {\n",
       "        text-align: right;\n",
       "    }\n",
       "</style>\n",
       "<table border=\"1\" class=\"dataframe\">\n",
       "  <thead>\n",
       "    <tr style=\"text-align: right;\">\n",
       "      <th></th>\n",
       "      <th>PWS ID</th>\n",
       "      <th>PWS Name</th>\n",
       "      <th>PWS Type</th>\n",
       "      <th>Primary Source</th>\n",
       "      <th>Counties Served</th>\n",
       "      <th>Cities Served</th>\n",
       "      <th>PopulationServed Count</th>\n",
       "      <th>Number of Facilities</th>\n",
       "      <th>Number of Violations</th>\n",
       "      <th>Number of Site Visits</th>\n",
       "    </tr>\n",
       "  </thead>\n",
       "  <tbody>\n",
       "    <tr>\n",
       "      <th>0</th>\n",
       "      <td>GA2610011</td>\n",
       "      <td>A B C MOBILE HOME PARK</td>\n",
       "      <td>Community water system</td>\n",
       "      <td>Ground water</td>\n",
       "      <td>Sumter</td>\n",
       "      <td>NaN</td>\n",
       "      <td>75</td>\n",
       "      <td>6.0</td>\n",
       "      <td>115.0</td>\n",
       "      <td>5.0</td>\n",
       "    </tr>\n",
       "    <tr>\n",
       "      <th>1</th>\n",
       "      <td>GA1830006</td>\n",
       "      <td>AARON MOBILE HOME PARK</td>\n",
       "      <td>Community water system</td>\n",
       "      <td>Ground water</td>\n",
       "      <td>Long</td>\n",
       "      <td>NaN</td>\n",
       "      <td>112</td>\n",
       "      <td>4.0</td>\n",
       "      <td>23.0</td>\n",
       "      <td>8.0</td>\n",
       "    </tr>\n",
       "    <tr>\n",
       "      <th>2</th>\n",
       "      <td>GA3150000</td>\n",
       "      <td>ABBEVILLE</td>\n",
       "      <td>Community water system</td>\n",
       "      <td>Ground water</td>\n",
       "      <td>Wilcox</td>\n",
       "      <td>NaN</td>\n",
       "      <td>2,960</td>\n",
       "      <td>10.0</td>\n",
       "      <td>15.0</td>\n",
       "      <td>4.0</td>\n",
       "    </tr>\n",
       "    <tr>\n",
       "      <th>3</th>\n",
       "      <td>GA2770004</td>\n",
       "      <td>ABRAHAM BALDWIN AGRI. COLLEGE</td>\n",
       "      <td>Community water system</td>\n",
       "      <td>Ground water</td>\n",
       "      <td>Tift</td>\n",
       "      <td>TIFTON</td>\n",
       "      <td>4,086</td>\n",
       "      <td>5.0</td>\n",
       "      <td>26.0</td>\n",
       "      <td>5.0</td>\n",
       "    </tr>\n",
       "    <tr>\n",
       "      <th>4</th>\n",
       "      <td>GA1850009</td>\n",
       "      <td>ACADEMY ACRES SUBDIVISION</td>\n",
       "      <td>Community water system</td>\n",
       "      <td>Ground water</td>\n",
       "      <td>Lowndes</td>\n",
       "      <td>VALDOSTA</td>\n",
       "      <td>325</td>\n",
       "      <td>6.0</td>\n",
       "      <td>6.0</td>\n",
       "      <td>5.0</td>\n",
       "    </tr>\n",
       "    <tr>\n",
       "      <th>...</th>\n",
       "      <td>...</td>\n",
       "      <td>...</td>\n",
       "      <td>...</td>\n",
       "      <td>...</td>\n",
       "      <td>...</td>\n",
       "      <td>...</td>\n",
       "      <td>...</td>\n",
       "      <td>...</td>\n",
       "      <td>...</td>\n",
       "      <td>...</td>\n",
       "    </tr>\n",
       "    <tr>\n",
       "      <th>2374</th>\n",
       "      <td>GA0510134</td>\n",
       "      <td>WILMINGTON ISLAND WATER SUPPLY</td>\n",
       "      <td>Transient non-community system</td>\n",
       "      <td>Ground water</td>\n",
       "      <td>Chatham</td>\n",
       "      <td>NaN</td>\n",
       "      <td>100</td>\n",
       "      <td>3.0</td>\n",
       "      <td>33.0</td>\n",
       "      <td>4.0</td>\n",
       "    </tr>\n",
       "    <tr>\n",
       "      <th>2375</th>\n",
       "      <td>GA0450028</td>\n",
       "      <td>WOODLAND CHRISTIAN CAMP</td>\n",
       "      <td>Transient non-community system</td>\n",
       "      <td>Ground water</td>\n",
       "      <td>Carroll</td>\n",
       "      <td>TEMPLE</td>\n",
       "      <td>275</td>\n",
       "      <td>5.0</td>\n",
       "      <td>14.0</td>\n",
       "      <td>3.0</td>\n",
       "    </tr>\n",
       "    <tr>\n",
       "      <th>2376</th>\n",
       "      <td>GA2410098</td>\n",
       "      <td>YMCA-CAMP HIGH HARBOUR</td>\n",
       "      <td>Transient non-community system</td>\n",
       "      <td>Ground water</td>\n",
       "      <td>Rabun</td>\n",
       "      <td>CLAYTON</td>\n",
       "      <td>160</td>\n",
       "      <td>4.0</td>\n",
       "      <td>13.0</td>\n",
       "      <td>3.0</td>\n",
       "    </tr>\n",
       "    <tr>\n",
       "      <th>2377</th>\n",
       "      <td>GA1930006</td>\n",
       "      <td>YODER`S RESTAURANT</td>\n",
       "      <td>Transient non-community system</td>\n",
       "      <td>Ground water</td>\n",
       "      <td>Macon</td>\n",
       "      <td>NaN</td>\n",
       "      <td>200</td>\n",
       "      <td>2.0</td>\n",
       "      <td>10.0</td>\n",
       "      <td>7.0</td>\n",
       "    </tr>\n",
       "    <tr>\n",
       "      <th>2378</th>\n",
       "      <td>GA3110112</td>\n",
       "      <td>YONAH MOUNTAIN VINEYARDS</td>\n",
       "      <td>Transient non-community system</td>\n",
       "      <td>Ground water</td>\n",
       "      <td>White</td>\n",
       "      <td>CLEVELAND</td>\n",
       "      <td>40</td>\n",
       "      <td>3.0</td>\n",
       "      <td>3.0</td>\n",
       "      <td>1.0</td>\n",
       "    </tr>\n",
       "  </tbody>\n",
       "</table>\n",
       "<p>2379 rows × 10 columns</p>\n",
       "</div>"
      ],
      "text/plain": [
       "         PWS ID                        PWS Name  \\\n",
       "0     GA2610011          A B C MOBILE HOME PARK   \n",
       "1     GA1830006          AARON MOBILE HOME PARK   \n",
       "2     GA3150000                       ABBEVILLE   \n",
       "3     GA2770004   ABRAHAM BALDWIN AGRI. COLLEGE   \n",
       "4     GA1850009       ACADEMY ACRES SUBDIVISION   \n",
       "...         ...                             ...   \n",
       "2374  GA0510134  WILMINGTON ISLAND WATER SUPPLY   \n",
       "2375  GA0450028         WOODLAND CHRISTIAN CAMP   \n",
       "2376  GA2410098          YMCA-CAMP HIGH HARBOUR   \n",
       "2377  GA1930006              YODER`S RESTAURANT   \n",
       "2378  GA3110112        YONAH MOUNTAIN VINEYARDS   \n",
       "\n",
       "                            PWS Type Primary Source Counties Served  \\\n",
       "0             Community water system   Ground water          Sumter   \n",
       "1             Community water system   Ground water            Long   \n",
       "2             Community water system   Ground water          Wilcox   \n",
       "3             Community water system   Ground water            Tift   \n",
       "4             Community water system   Ground water         Lowndes   \n",
       "...                              ...            ...             ...   \n",
       "2374  Transient non-community system   Ground water         Chatham   \n",
       "2375  Transient non-community system   Ground water         Carroll   \n",
       "2376  Transient non-community system   Ground water           Rabun   \n",
       "2377  Transient non-community system   Ground water           Macon   \n",
       "2378  Transient non-community system   Ground water           White   \n",
       "\n",
       "     Cities Served PopulationServed Count  Number of Facilities  \\\n",
       "0              NaN                     75                   6.0   \n",
       "1              NaN                    112                   4.0   \n",
       "2              NaN                  2,960                  10.0   \n",
       "3           TIFTON                  4,086                   5.0   \n",
       "4         VALDOSTA                    325                   6.0   \n",
       "...            ...                    ...                   ...   \n",
       "2374           NaN                    100                   3.0   \n",
       "2375        TEMPLE                    275                   5.0   \n",
       "2376       CLAYTON                    160                   4.0   \n",
       "2377           NaN                    200                   2.0   \n",
       "2378     CLEVELAND                     40                   3.0   \n",
       "\n",
       "      Number of Violations  Number of Site Visits  \n",
       "0                    115.0                    5.0  \n",
       "1                     23.0                    8.0  \n",
       "2                     15.0                    4.0  \n",
       "3                     26.0                    5.0  \n",
       "4                      6.0                    5.0  \n",
       "...                    ...                    ...  \n",
       "2374                  33.0                    4.0  \n",
       "2375                  14.0                    3.0  \n",
       "2376                  13.0                    3.0  \n",
       "2377                  10.0                    7.0  \n",
       "2378                   3.0                    1.0  \n",
       "\n",
       "[2379 rows x 10 columns]"
      ]
     },
     "execution_count": 10,
     "metadata": {},
     "output_type": "execute_result"
    }
   ],
   "source": [
    "water['Number of Facilities'] = water['Number of Facilities'].astype(float)\n",
    "water['Number of Violations'] = water['Number of Violations'].astype(float)\n",
    "water['Number of Site Visits'] = water['Number of Site Visits'].astype(float)\n",
    "print()\n",
    "print(water.dtypes)\n",
    "water\n"
   ]
  },
  {
   "cell_type": "code",
   "execution_count": 11,
   "id": "48af4ca3",
   "metadata": {},
   "outputs": [
    {
     "name": "stdout",
     "output_type": "stream",
     "text": [
      "PWS ID                     object\n",
      "PWS Name                   object\n",
      "PWS Type                   object\n",
      "Primary Source             object\n",
      "Counties Served            object\n",
      "Cities Served              object\n",
      "PopulationServed Count     object\n",
      "Number of Facilities      float64\n",
      "Number of Violations      float64\n",
      "Number of Site Visits     float64\n",
      "dtype: object\n"
     ]
    }
   ],
   "source": [
    "print(water.dtypes)"
   ]
  },
  {
   "cell_type": "code",
   "execution_count": 12,
   "id": "08285b1e",
   "metadata": {},
   "outputs": [
    {
     "data": {
      "text/plain": [
       "PWS ID                       0\n",
       "PWS Name                     0\n",
       "PWS Type                     0\n",
       "Primary Source               0\n",
       "Counties Served              0\n",
       "Cities Served             1098\n",
       "PopulationServed Count       0\n",
       "Number of Facilities         0\n",
       "Number of Violations         0\n",
       "Number of Site Visits        0\n",
       "dtype: int64"
      ]
     },
     "execution_count": 12,
     "metadata": {},
     "output_type": "execute_result"
    }
   ],
   "source": [
    "water.isnull().sum()"
   ]
  },
  {
   "cell_type": "code",
   "execution_count": 13,
   "id": "ca0bfc49",
   "metadata": {},
   "outputs": [
    {
     "name": "stdout",
     "output_type": "stream",
     "text": [
      "<class 'pandas.core.frame.DataFrame'>\n",
      "RangeIndex: 2379 entries, 0 to 2378\n",
      "Data columns (total 10 columns):\n",
      " #   Column                  Non-Null Count  Dtype  \n",
      "---  ------                  --------------  -----  \n",
      " 0   PWS ID                  2379 non-null   object \n",
      " 1   PWS Name                2379 non-null   object \n",
      " 2   PWS Type                2379 non-null   object \n",
      " 3   Primary Source          2379 non-null   object \n",
      " 4   Counties Served         2379 non-null   object \n",
      " 5   Cities Served           1281 non-null   object \n",
      " 6   PopulationServed Count  2379 non-null   object \n",
      " 7   Number of Facilities    2379 non-null   float64\n",
      " 8   Number of Violations    2379 non-null   float64\n",
      " 9   Number of Site Visits   2379 non-null   float64\n",
      "dtypes: float64(3), object(7)\n",
      "memory usage: 186.0+ KB\n"
     ]
    }
   ],
   "source": [
    "water.info()"
   ]
  },
  {
   "cell_type": "code",
   "execution_count": 14,
   "id": "27f0b491",
   "metadata": {},
   "outputs": [
    {
     "data": {
      "text/html": [
       "<div>\n",
       "<style scoped>\n",
       "    .dataframe tbody tr th:only-of-type {\n",
       "        vertical-align: middle;\n",
       "    }\n",
       "\n",
       "    .dataframe tbody tr th {\n",
       "        vertical-align: top;\n",
       "    }\n",
       "\n",
       "    .dataframe thead th {\n",
       "        text-align: right;\n",
       "    }\n",
       "</style>\n",
       "<table border=\"1\" class=\"dataframe\">\n",
       "  <thead>\n",
       "    <tr style=\"text-align: right;\">\n",
       "      <th></th>\n",
       "      <th>Number of Facilities</th>\n",
       "      <th>Number of Violations</th>\n",
       "      <th>Number of Site Visits</th>\n",
       "    </tr>\n",
       "  </thead>\n",
       "  <tbody>\n",
       "    <tr>\n",
       "      <th>count</th>\n",
       "      <td>2379.000000</td>\n",
       "      <td>2379.000000</td>\n",
       "      <td>2379.000000</td>\n",
       "    </tr>\n",
       "    <tr>\n",
       "      <th>mean</th>\n",
       "      <td>6.022699</td>\n",
       "      <td>15.356032</td>\n",
       "      <td>5.811686</td>\n",
       "    </tr>\n",
       "    <tr>\n",
       "      <th>std</th>\n",
       "      <td>4.501975</td>\n",
       "      <td>24.584790</td>\n",
       "      <td>5.855264</td>\n",
       "    </tr>\n",
       "    <tr>\n",
       "      <th>min</th>\n",
       "      <td>2.000000</td>\n",
       "      <td>0.000000</td>\n",
       "      <td>0.000000</td>\n",
       "    </tr>\n",
       "    <tr>\n",
       "      <th>25%</th>\n",
       "      <td>4.000000</td>\n",
       "      <td>4.000000</td>\n",
       "      <td>4.000000</td>\n",
       "    </tr>\n",
       "    <tr>\n",
       "      <th>50%</th>\n",
       "      <td>5.000000</td>\n",
       "      <td>9.000000</td>\n",
       "      <td>5.000000</td>\n",
       "    </tr>\n",
       "    <tr>\n",
       "      <th>75%</th>\n",
       "      <td>7.000000</td>\n",
       "      <td>18.000000</td>\n",
       "      <td>6.000000</td>\n",
       "    </tr>\n",
       "    <tr>\n",
       "      <th>max</th>\n",
       "      <td>77.000000</td>\n",
       "      <td>523.000000</td>\n",
       "      <td>70.000000</td>\n",
       "    </tr>\n",
       "  </tbody>\n",
       "</table>\n",
       "</div>"
      ],
      "text/plain": [
       "       Number of Facilities  Number of Violations  Number of Site Visits\n",
       "count           2379.000000           2379.000000            2379.000000\n",
       "mean               6.022699             15.356032               5.811686\n",
       "std                4.501975             24.584790               5.855264\n",
       "min                2.000000              0.000000               0.000000\n",
       "25%                4.000000              4.000000               4.000000\n",
       "50%                5.000000              9.000000               5.000000\n",
       "75%                7.000000             18.000000               6.000000\n",
       "max               77.000000            523.000000              70.000000"
      ]
     },
     "execution_count": 14,
     "metadata": {},
     "output_type": "execute_result"
    }
   ],
   "source": [
    "water.describe()"
   ]
  },
  {
   "cell_type": "code",
   "execution_count": 15,
   "id": "13c72e32",
   "metadata": {},
   "outputs": [
    {
     "data": {
      "text/plain": [
       "array(['GA2610011', 'GA1830006', 'GA3150000', ..., 'GA2410098',\n",
       "       'GA1930006', 'GA3110112'], dtype=object)"
      ]
     },
     "execution_count": 15,
     "metadata": {},
     "output_type": "execute_result"
    }
   ],
   "source": [
    "water['PWS ID'].unique()"
   ]
  },
  {
   "cell_type": "code",
   "execution_count": 16,
   "id": "265a0a52",
   "metadata": {},
   "outputs": [
    {
     "data": {
      "text/plain": [
       "2379"
      ]
     },
     "execution_count": 16,
     "metadata": {},
     "output_type": "execute_result"
    }
   ],
   "source": [
    "len(water['PWS ID'].unique())"
   ]
  },
  {
   "cell_type": "code",
   "execution_count": 17,
   "id": "94f035fa",
   "metadata": {},
   "outputs": [
    {
     "data": {
      "text/plain": [
       "array(['Community water system', 'Non-Transient non-community system',\n",
       "       'Transient non-community system'], dtype=object)"
      ]
     },
     "execution_count": 17,
     "metadata": {},
     "output_type": "execute_result"
    }
   ],
   "source": [
    "water['PWS Type'].unique()"
   ]
  },
  {
   "cell_type": "code",
   "execution_count": 18,
   "id": "14b9ebe0",
   "metadata": {},
   "outputs": [
    {
     "data": {
      "text/plain": [
       "3"
      ]
     },
     "execution_count": 18,
     "metadata": {},
     "output_type": "execute_result"
    }
   ],
   "source": [
    "len(water['PWS Type'].unique())"
   ]
  },
  {
   "cell_type": "code",
   "execution_count": 19,
   "id": "a75f4560",
   "metadata": {},
   "outputs": [],
   "source": [
    "X = water\n",
    "y = water['PWS Type']"
   ]
  },
  {
   "cell_type": "code",
   "execution_count": 20,
   "id": "e77d4047",
   "metadata": {},
   "outputs": [],
   "source": [
    "from sklearn.preprocessing import LabelEncoder\n",
    "\n",
    "le = LabelEncoder()\n",
    "\n",
    "X['PWS Type'] = le.fit_transform(X['PWS Type'])\n",
    "\n",
    "y = le.transform(y)"
   ]
  },
  {
   "cell_type": "code",
   "execution_count": 21,
   "id": "15f70fa9",
   "metadata": {},
   "outputs": [
    {
     "name": "stdout",
     "output_type": "stream",
     "text": [
      "<class 'pandas.core.frame.DataFrame'>\n",
      "RangeIndex: 2379 entries, 0 to 2378\n",
      "Data columns (total 10 columns):\n",
      " #   Column                  Non-Null Count  Dtype  \n",
      "---  ------                  --------------  -----  \n",
      " 0   PWS ID                  2379 non-null   object \n",
      " 1   PWS Name                2379 non-null   object \n",
      " 2   PWS Type                2379 non-null   int32  \n",
      " 3   Primary Source          2379 non-null   object \n",
      " 4   Counties Served         2379 non-null   object \n",
      " 5   Cities Served           1281 non-null   object \n",
      " 6   PopulationServed Count  2379 non-null   object \n",
      " 7   Number of Facilities    2379 non-null   float64\n",
      " 8   Number of Violations    2379 non-null   float64\n",
      " 9   Number of Site Visits   2379 non-null   float64\n",
      "dtypes: float64(3), int32(1), object(6)\n",
      "memory usage: 176.7+ KB\n"
     ]
    }
   ],
   "source": [
    "X.info()"
   ]
  },
  {
   "cell_type": "code",
   "execution_count": 22,
   "id": "69735ad7",
   "metadata": {},
   "outputs": [],
   "source": [
    "water.drop(['PWS ID', 'PWS Name','Primary Source','PopulationServed Count'], axis=1, inplace=True)"
   ]
  },
  {
   "cell_type": "code",
   "execution_count": 23,
   "id": "c97d96f3",
   "metadata": {},
   "outputs": [
    {
     "name": "stdout",
     "output_type": "stream",
     "text": [
      "<class 'pandas.core.frame.DataFrame'>\n",
      "RangeIndex: 2379 entries, 0 to 2378\n",
      "Data columns (total 6 columns):\n",
      " #   Column                 Non-Null Count  Dtype  \n",
      "---  ------                 --------------  -----  \n",
      " 0   PWS Type               2379 non-null   int32  \n",
      " 1   Counties Served        2379 non-null   object \n",
      " 2   Cities Served          1281 non-null   object \n",
      " 3   Number of Facilities   2379 non-null   float64\n",
      " 4   Number of Violations   2379 non-null   float64\n",
      " 5   Number of Site Visits  2379 non-null   float64\n",
      "dtypes: float64(3), int32(1), object(2)\n",
      "memory usage: 102.3+ KB\n"
     ]
    }
   ],
   "source": [
    "water.info()"
   ]
  },
  {
   "cell_type": "code",
   "execution_count": 24,
   "id": "fd408455",
   "metadata": {},
   "outputs": [],
   "source": [
    "water.drop(['Cities Served'], axis=1, inplace=True)\n"
   ]
  },
  {
   "cell_type": "code",
   "execution_count": 25,
   "id": "10e87d24",
   "metadata": {},
   "outputs": [
    {
     "name": "stdout",
     "output_type": "stream",
     "text": [
      "<class 'pandas.core.frame.DataFrame'>\n",
      "RangeIndex: 2379 entries, 0 to 2378\n",
      "Data columns (total 5 columns):\n",
      " #   Column                 Non-Null Count  Dtype  \n",
      "---  ------                 --------------  -----  \n",
      " 0   PWS Type               2379 non-null   int32  \n",
      " 1   Counties Served        2379 non-null   object \n",
      " 2   Number of Facilities   2379 non-null   float64\n",
      " 3   Number of Violations   2379 non-null   float64\n",
      " 4   Number of Site Visits  2379 non-null   float64\n",
      "dtypes: float64(3), int32(1), object(1)\n",
      "memory usage: 83.8+ KB\n"
     ]
    }
   ],
   "source": [
    "water.info()"
   ]
  },
  {
   "cell_type": "code",
   "execution_count": 26,
   "id": "9bd4c36c",
   "metadata": {},
   "outputs": [],
   "source": [
    "cols = X.columns"
   ]
  },
  {
   "cell_type": "code",
   "execution_count": 29,
   "id": "8c5e0daf",
   "metadata": {},
   "outputs": [
    {
     "data": {
      "text/plain": [
       "<function matplotlib.pyplot.show(close=None, block=None)>"
      ]
     },
     "execution_count": 29,
     "metadata": {},
     "output_type": "execute_result"
    },
    {
     "data": {
      "image/png": "[encoded data removed]",
      "text/plain": [
       "<Figure size 432x288 with 1 Axes>"
      ]
     },
     "metadata": {
      "needs_background": "light"
     },
     "output_type": "display_data"
    }
   ],
   "source": [
    "water.plot(kind='scatter', x='Counties Served',y='Number of Violations', color='blue')\n",
    "plt.show"
   ]
  },
  {
   "cell_type": "code",
   "execution_count": 27,
   "id": "bfa601fa",
   "metadata": {},
   "outputs": [
    {
     "data": {
      "text/plain": [
       "<function matplotlib.pyplot.show(close=None, block=None)>"
      ]
     },
     "execution_count": 27,
     "metadata": {},
     "output_type": "execute_result"
    },
    {
     "data": {
      "image/png": "[encoded data removed]",
      "text/plain": [
       "<Figure size 432x288 with 1 Axes>"
      ]
     },
     "metadata": {
      "needs_background": "light"
     },
     "output_type": "display_data"
    }
   ],
   "source": [
    "water.plot(kind='scatter', x='Counties Served',y='Number of Facilities', color='red')\n",
    "plt.xlim(156,163)\n",
    "plt.show"
   ]
  },
  {
   "cell_type": "code",
   "execution_count": 63,
   "id": "851cae39",
   "metadata": {},
   "outputs": [
    {
     "data": {
      "image/png": "[encoded data removed]",
      "text/plain": [
       "<Figure size 432x288 with 1 Axes>"
      ]
     },
     "metadata": {},
     "output_type": "display_data"
    }
   ],
   "source": [
    "import matplotlib.pyplot as plt\n",
    "\n",
    "\n",
    "fig = plt.figure()\n",
    "ax1 = fig.add_subplot()\n",
    "plt.style.use('ggplot')\n",
    "plt.title('Relation between Facilites,Violations and Counties Served')\n",
    "plt.xlabel('Counties Served')\n",
    "plt.ylabel('Facilites, and Violations')\n",
    "ax1.scatter(x=water['Counties Served'],y=water['Number of Facilities'], s=100, c='r', marker=\"s\",alpha=0.6, label='first')\n",
    "ax1.scatter(x=water['Counties Served'],y=water['Number of Violations'], s=100, c='b', marker=\"o\",alpha=0.5, label='second')\n",
    "plt.xlim(0,7)\n",
    "plt.ylim(0,90)\n",
    "\n",
    "plt.legend(loc='upper left');\n",
    "plt.tight_layout()\n",
    "plt.show()"
   ]
  },
  {
   "cell_type": "code",
   "execution_count": 42,
   "id": "5e16027c",
   "metadata": {},
   "outputs": [],
   "source": [
    "from sklearn.preprocessing import MinMaxScaler\n",
    "\n",
    "ms = MinMaxScaler()\n",
    "\n",
    "X = ms.fit_transform(X)"
   ]
  },
  {
   "cell_type": "code",
   "execution_count": 47,
   "id": "6d910253",
   "metadata": {},
   "outputs": [],
   "source": [
    "X = pd.DataFrame(X, columns=[cols])"
   ]
  },
  {
   "cell_type": "code",
   "execution_count": 48,
   "id": "400d85a1",
   "metadata": {},
   "outputs": [
    {
     "data": {
      "text/html": [
       "<div>\n",
       "<style scoped>\n",
       "    .dataframe tbody tr th:only-of-type {\n",
       "        vertical-align: middle;\n",
       "    }\n",
       "\n",
       "    .dataframe tbody tr th {\n",
       "        vertical-align: top;\n",
       "    }\n",
       "\n",
       "    .dataframe thead tr th {\n",
       "        text-align: left;\n",
       "    }\n",
       "</style>\n",
       "<table border=\"1\" class=\"dataframe\">\n",
       "  <thead>\n",
       "    <tr>\n",
       "      <th></th>\n",
       "      <th>PWS Type</th>\n",
       "      <th>Number of Facilities</th>\n",
       "      <th>Number of Violations</th>\n",
       "      <th>Number of Site Visits</th>\n",
       "    </tr>\n",
       "  </thead>\n",
       "  <tbody>\n",
       "    <tr>\n",
       "      <th>0</th>\n",
       "      <td>0.0</td>\n",
       "      <td>0.053333</td>\n",
       "      <td>0.219885</td>\n",
       "      <td>0.071429</td>\n",
       "    </tr>\n",
       "    <tr>\n",
       "      <th>1</th>\n",
       "      <td>0.0</td>\n",
       "      <td>0.026667</td>\n",
       "      <td>0.043977</td>\n",
       "      <td>0.114286</td>\n",
       "    </tr>\n",
       "    <tr>\n",
       "      <th>2</th>\n",
       "      <td>0.0</td>\n",
       "      <td>0.106667</td>\n",
       "      <td>0.028681</td>\n",
       "      <td>0.057143</td>\n",
       "    </tr>\n",
       "    <tr>\n",
       "      <th>3</th>\n",
       "      <td>0.0</td>\n",
       "      <td>0.040000</td>\n",
       "      <td>0.049713</td>\n",
       "      <td>0.071429</td>\n",
       "    </tr>\n",
       "    <tr>\n",
       "      <th>4</th>\n",
       "      <td>0.0</td>\n",
       "      <td>0.053333</td>\n",
       "      <td>0.011472</td>\n",
       "      <td>0.071429</td>\n",
       "    </tr>\n",
       "  </tbody>\n",
       "</table>\n",
       "</div>"
      ],
      "text/plain": [
       "  PWS Type Number of Facilities Number of Violations Number of Site Visits\n",
       "0      0.0             0.053333             0.219885              0.071429\n",
       "1      0.0             0.026667             0.043977              0.114286\n",
       "2      0.0             0.106667             0.028681              0.057143\n",
       "3      0.0             0.040000             0.049713              0.071429\n",
       "4      0.0             0.053333             0.011472              0.071429"
      ]
     },
     "execution_count": 48,
     "metadata": {},
     "output_type": "execute_result"
    }
   ],
   "source": [
    "X.head()"
   ]
  },
  {
   "cell_type": "code",
   "execution_count": 49,
   "id": "c676a714",
   "metadata": {},
   "outputs": [
    {
     "data": {
      "text/plain": [
       "KMeans(n_clusters=2, random_state=0)"
      ]
     },
     "execution_count": 49,
     "metadata": {},
     "output_type": "execute_result"
    }
   ],
   "source": [
    "from sklearn.cluster import KMeans\n",
    "\n",
    "kmeans = KMeans(n_clusters=2, random_state=0) \n",
    "\n",
    "kmeans.fit(X)"
   ]
  },
  {
   "cell_type": "code",
   "execution_count": 50,
   "id": "67678da9",
   "metadata": {},
   "outputs": [
    {
     "data": {
      "text/plain": [
       "array([[-1.30451205e-15,  6.43478261e-02,  3.47770665e-02,\n",
       "         9.60165631e-02],\n",
       "       [ 8.68501529e-01,  2.53822630e-02,  1.50770958e-02,\n",
       "         4.87549148e-02]])"
      ]
     },
     "execution_count": 50,
     "metadata": {},
     "output_type": "execute_result"
    }
   ],
   "source": [
    "kmeans.cluster_centers_"
   ]
  },
  {
   "cell_type": "code",
   "execution_count": 51,
   "id": "c5643d50",
   "metadata": {},
   "outputs": [
    {
     "data": {
      "text/plain": [
       "60.189092575144386"
      ]
     },
     "execution_count": 51,
     "metadata": {},
     "output_type": "execute_result"
    }
   ],
   "source": [
    "kmeans.inertia_"
   ]
  },
  {
   "cell_type": "code",
   "execution_count": 52,
   "id": "4465dc03",
   "metadata": {},
   "outputs": [
    {
     "name": "stdout",
     "output_type": "stream",
     "text": [
      "Result: 1897 out of 2379 samples were correctly labeled.\n"
     ]
    }
   ],
   "source": [
    "labels = kmeans.labels_\n",
    "\n",
    "# check how many of the samples were correctly labeled\n",
    "correct_labels = sum(y == labels)\n",
    "\n",
    "print(\"Result: %d out of %d samples were correctly labeled.\" % (correct_labels, y.size))"
   ]
  },
  {
   "cell_type": "code",
   "execution_count": 53,
   "id": "21cbcac7",
   "metadata": {},
   "outputs": [
    {
     "name": "stdout",
     "output_type": "stream",
     "text": [
      "Accuracy score: 0.80\n"
     ]
    }
   ],
   "source": [
    "print('Accuracy score: {0:0.2f}'. format(correct_labels/float(y.size)))"
   ]
  },
  {
   "cell_type": "code",
   "execution_count": 54,
   "id": "01565c00",
   "metadata": {},
   "outputs": [
    {
     "data": {
      "image/png": "[encoded data removed]",
      "text/plain": [
       "<Figure size 432x288 with 1 Axes>"
      ]
     },
     "metadata": {
      "needs_background": "light"
     },
     "output_type": "display_data"
    }
   ],
   "source": [
    "from sklearn.cluster import KMeans\n",
    "cs = []\n",
    "for i in range(1, 11):\n",
    "    kmeans = KMeans(n_clusters = i, init = 'k-means++', max_iter = 300, n_init = 10, random_state = 0)\n",
    "    kmeans.fit(X)\n",
    "    cs.append(kmeans.inertia_)\n",
    "plt.plot(range(1, 11), cs)\n",
    "plt.title('The Elbow Method')\n",
    "plt.xlabel('Number of clusters')\n",
    "plt.ylabel('CS')\n",
    "plt.show()"
   ]
  },
  {
   "cell_type": "code",
   "execution_count": 55,
   "id": "454dbd74",
   "metadata": {},
   "outputs": [
    {
     "name": "stdout",
     "output_type": "stream",
     "text": [
      "Result: 1897 out of 2379 samples were correctly labeled.\n",
      "Accuracy score: 0.80\n"
     ]
    }
   ],
   "source": [
    "from sklearn.cluster import KMeans\n",
    "\n",
    "kmeans = KMeans(n_clusters=2,random_state=0)\n",
    "\n",
    "kmeans.fit(X)\n",
    "\n",
    "labels = kmeans.labels_\n",
    "\n",
    "# check how many of the samples were correctly labeled\n",
    "\n",
    "correct_labels = sum(y == labels)\n",
    "\n",
    "print(\"Result: %d out of %d samples were correctly labeled.\" % (correct_labels, y.size))\n",
    "\n",
    "print('Accuracy score: {0:0.2f}'. format(correct_labels/float(y.size)))"
   ]
  },
  {
   "cell_type": "code",
   "execution_count": 56,
   "id": "8e67504e",
   "metadata": {},
   "outputs": [
    {
     "name": "stdout",
     "output_type": "stream",
     "text": [
      "Result: 1725 out of 2379 samples were correctly labeled.\n",
      "Accuracy score: 0.73\n"
     ]
    }
   ],
   "source": [
    "kmeans = KMeans(n_clusters=3, random_state=0)\n",
    "\n",
    "kmeans.fit(X)\n",
    "\n",
    "# check how many of the samples were correctly labeled\n",
    "labels = kmeans.labels_\n",
    "\n",
    "correct_labels = sum(y == labels)\n",
    "print(\"Result: %d out of %d samples were correctly labeled.\" % (correct_labels, y.size))\n",
    "print('Accuracy score: {0:0.2f}'. format(correct_labels/float(y.size)))"
   ]
  },
  {
   "cell_type": "code",
   "execution_count": 57,
   "id": "3fa73436",
   "metadata": {},
   "outputs": [
    {
     "name": "stdout",
     "output_type": "stream",
     "text": [
      "Result: 0 out of 2379 samples were correctly labeled.\n",
      "Accuracy score: 0.00\n"
     ]
    }
   ],
   "source": [
    "kmeans = KMeans(n_clusters=4, random_state=0)\n",
    "\n",
    "kmeans.fit(X)\n",
    "\n",
    "# check how many of the samples were correctly labeled\n",
    "labels = kmeans.labels_\n",
    "\n",
    "correct_labels = sum(y == labels)\n",
    "print(\"Result: %d out of %d samples were correctly labeled.\" % (correct_labels, y.size))\n",
    "print('Accuracy score: {0:0.2f}'. format(correct_labels/float(y.size)))"
   ]
  },
  {
   "cell_type": "code",
   "execution_count": 2,
   "id": "4ec9d41c",
   "metadata": {},
   "outputs": [
    {
     "name": "stdout",
     "output_type": "stream",
     "text": [
      "Collecting plotly-geo==1.0.0\n",
      "  Downloading plotly_geo-1.0.0-py3-none-any.whl (23.7 MB)\n",
      "Installing collected packages: plotly-geo\n",
      "Successfully installed plotly-geo-1.0.0\n",
      "Collecting geopandas==0.3.0\n",
      "  Downloading geopandas-0.3.0-py2.py3-none-any.whl (888 kB)\n",
      "Collecting shapely\n",
      "  Downloading Shapely-1.8.1.post1-cp38-cp38-win_amd64.whl (1.3 MB)\n",
      "Collecting fiona\n",
      "  Downloading Fiona-1.8.21.tar.gz (1.0 MB)\n",
      "  Downloading Fiona-1.8.20.tar.gz (1.3 MB)\n",
      "  Downloading Fiona-1.8.19.tar.gz (1.3 MB)\n",
      "  Downloading Fiona-1.8.18.tar.gz (1.3 MB)\n",
      "  Downloading Fiona-1.8.17.tar.gz (1.3 MB)\n",
      "  Downloading Fiona-1.8.16.tar.gz (1.3 MB)\n",
      "  Downloading Fiona-1.8.15.tar.gz (1.3 MB)\n",
      "  Downloading Fiona-1.8.14.tar.gz (1.3 MB)\n",
      "  Downloading Fiona-1.8.13.post1.tar.gz (1.2 MB)\n",
      "  Downloading Fiona-1.8.13.tar.gz (1.2 MB)\n",
      "  Downloading Fiona-1.8.12.tar.gz (1.2 MB)\n",
      "  Downloading Fiona-1.8.11.tar.gz (1.2 MB)\n",
      "  Downloading Fiona-1.8.10.tar.gz (1.2 MB)\n",
      "  Downloading Fiona-1.8.9.post2.tar.gz (1.2 MB)\n",
      "  Downloading Fiona-1.8.9.post1.tar.gz (1.2 MB)\n",
      "  Downloading Fiona-1.8.9.tar.gz (1.2 MB)\n",
      "  Downloading Fiona-1.8.8.tar.gz (1.7 MB)\n",
      "  Downloading Fiona-1.8.7.tar.gz (1.7 MB)\n",
      "  Downloading Fiona-1.8.6.tar.gz (1.7 MB)\n",
      "  Downloading Fiona-1.8.5.tar.gz (1.7 MB)\n",
      "  Downloading Fiona-1.8.4.tar.gz (1.1 MB)\n",
      "  Downloading Fiona-1.8.3.tar.gz (1.1 MB)\n",
      "  Downloading Fiona-1.8.2.tar.gz (1.2 MB)\n",
      "  Downloading Fiona-1.8.1.tar.gz (1.1 MB)\n",
      "  Downloading Fiona-1.8.0.tar.gz (1.4 MB)\n",
      "  Downloading Fiona-1.7.13.tar.gz (731 kB)\n",
      "Collecting pyproj\n",
      "  Downloading pyproj-3.3.1-cp38-cp38-win_amd64.whl (6.4 MB)\n",
      "Requirement already satisfied: pandas in c:\\users\\alien\\anaconda3\\lib\\site-packages (from geopandas==0.3.0) (1.2.4)\n",
      "Collecting descartes\n",
      "  Downloading descartes-1.1.0-py3-none-any.whl (5.8 kB)\n",
      "Requirement already satisfied: matplotlib in c:\\users\\alien\\anaconda3\\lib\\site-packages (from descartes->geopandas==0.3.0) (3.3.4)\n",
      "Collecting cligj>=0.4\n",
      "  Downloading cligj-0.7.2-py3-none-any.whl (7.1 kB)\n",
      "Collecting click-plugins\n",
      "  Downloading click_plugins-1.1.1-py2.py3-none-any.whl (7.5 kB)\n"
     ]
    },
    {
     "name": "stderr",
     "output_type": "stream",
     "text": [
      "    ERROR: Command errored out with exit status 1:\n",
      "     command: 'C:\\Users\\Alien\\anaconda3\\python.exe' -c 'import sys, setuptools, tokenize; sys.argv[0] = '\"'\"'C:\\\\Users\\\\Alien\\\\AppData\\\\Local\\\\Temp\\\\pip-install-zvdt3i_e\\\\fiona_4f2aab113e6e4a779ca64c2b0bbe681f\\\\setup.py'\"'\"'; __file__='\"'\"'C:\\\\Users\\\\Alien\\\\AppData\\\\Local\\\\Temp\\\\pip-install-zvdt3i_e\\\\fiona_4f2aab113e6e4a779ca64c2b0bbe681f\\\\setup.py'\"'\"';f=getattr(tokenize, '\"'\"'open'\"'\"', open)(__file__);code=f.read().replace('\"'\"'\\r\\n'\"'\"', '\"'\"'\\n'\"'\"');f.close();exec(compile(code, __file__, '\"'\"'exec'\"'\"'))' egg_info --egg-base 'C:\\Users\\Alien\\AppData\\Local\\Temp\\pip-pip-egg-info-rdob9mpy'\n",
      "         cwd: C:\\Users\\Alien\\AppData\\Local\\Temp\\pip-install-zvdt3i_e\\fiona_4f2aab113e6e4a779ca64c2b0bbe681f\\\n",
      "    Complete output (1 lines):\n",
      "    A GDAL API version must be specified. Provide a path to gdal-config using a GDAL_CONFIG environment variable or use a GDAL_VERSION environment variable.\n",
      "    ----------------------------------------\n",
      "WARNING: Discarding https://files.pythonhosted.org/packages/67/5c/4e028e84a1f0cb3f8a994217cf2366360ca984dfc1433f6171de527d0dca/Fiona-1.8.21.tar.gz#sha256=3a0edca2a7a070db405d71187214a43d2333a57b4097544a3fcc282066a58bfc (from https://pypi.org/simple/fiona/). Command errored out with exit status 1: python setup.py egg_info Check the logs for full command output.\n",
      "    ERROR: Command errored out with exit status 1:\n",
      "     command: 'C:\\Users\\Alien\\anaconda3\\python.exe' -c 'import sys, setuptools, tokenize; sys.argv[0] = '\"'\"'C:\\\\Users\\\\Alien\\\\AppData\\\\Local\\\\Temp\\\\pip-install-zvdt3i_e\\\\fiona_d892894947654d5b93d70dd2cfad3745\\\\setup.py'\"'\"'; __file__='\"'\"'C:\\\\Users\\\\Alien\\\\AppData\\\\Local\\\\Temp\\\\pip-install-zvdt3i_e\\\\fiona_d892894947654d5b93d70dd2cfad3745\\\\setup.py'\"'\"';f=getattr(tokenize, '\"'\"'open'\"'\"', open)(__file__);code=f.read().replace('\"'\"'\\r\\n'\"'\"', '\"'\"'\\n'\"'\"');f.close();exec(compile(code, __file__, '\"'\"'exec'\"'\"'))' egg_info --egg-base 'C:\\Users\\Alien\\AppData\\Local\\Temp\\pip-pip-egg-info-uy6dnifv'\n",
      "         cwd: C:\\Users\\Alien\\AppData\\Local\\Temp\\pip-install-zvdt3i_e\\fiona_d892894947654d5b93d70dd2cfad3745\\\n",
      "    Complete output (1 lines):\n",
      "    A GDAL API version must be specified. Provide a path to gdal-config using a GDAL_CONFIG environment variable or use a GDAL_VERSION environment variable.\n",
      "    ----------------------------------------\n",
      "WARNING: Discarding https://files.pythonhosted.org/packages/ec/f7/093890341a7e8fbfcdfa04caf4dfb588ebab32c13ceaa6a3819da79ea106/Fiona-1.8.20.tar.gz#sha256=a70502d2857b82f749c09cb0dea3726787747933a2a1599b5ab787d74e3c143b (from https://pypi.org/simple/fiona/). Command errored out with exit status 1: python setup.py egg_info Check the logs for full command output.\n",
      "    ERROR: Command errored out with exit status 1:\n",
      "     command: 'C:\\Users\\Alien\\anaconda3\\python.exe' -c 'import sys, setuptools, tokenize; sys.argv[0] = '\"'\"'C:\\\\Users\\\\Alien\\\\AppData\\\\Local\\\\Temp\\\\pip-install-zvdt3i_e\\\\fiona_7666584856e147049412ab812067d6df\\\\setup.py'\"'\"'; __file__='\"'\"'C:\\\\Users\\\\Alien\\\\AppData\\\\Local\\\\Temp\\\\pip-install-zvdt3i_e\\\\fiona_7666584856e147049412ab812067d6df\\\\setup.py'\"'\"';f=getattr(tokenize, '\"'\"'open'\"'\"', open)(__file__);code=f.read().replace('\"'\"'\\r\\n'\"'\"', '\"'\"'\\n'\"'\"');f.close();exec(compile(code, __file__, '\"'\"'exec'\"'\"'))' egg_info --egg-base 'C:\\Users\\Alien\\AppData\\Local\\Temp\\pip-pip-egg-info-goiu6om9'\n",
      "         cwd: C:\\Users\\Alien\\AppData\\Local\\Temp\\pip-install-zvdt3i_e\\fiona_7666584856e147049412ab812067d6df\\\n",
      "    Complete output (1 lines):\n",
      "    A GDAL API version must be specified. Provide a path to gdal-config using a GDAL_CONFIG environment variable or use a GDAL_VERSION environment variable.\n",
      "    ----------------------------------------\n",
      "WARNING: Discarding https://files.pythonhosted.org/packages/a0/d9/6042aeb073d11341f7726de0586ff71c13117c34959dcf07bd4ee6d4b93e/Fiona-1.8.19.tar.gz#sha256=b9059e0b29c2e9e6b817e53f941e77e1aca7075f986005d38db307067b60458f (from https://pypi.org/simple/fiona/). Command errored out with exit status 1: python setup.py egg_info Check the logs for full command output.\n",
      "    ERROR: Command errored out with exit status 1:\n",
      "     command: 'C:\\Users\\Alien\\anaconda3\\python.exe' -c 'import sys, setuptools, tokenize; sys.argv[0] = '\"'\"'C:\\\\Users\\\\Alien\\\\AppData\\\\Local\\\\Temp\\\\pip-install-zvdt3i_e\\\\fiona_c8fa159f709b4d10b463206a788a8c92\\\\setup.py'\"'\"'; __file__='\"'\"'C:\\\\Users\\\\Alien\\\\AppData\\\\Local\\\\Temp\\\\pip-install-zvdt3i_e\\\\fiona_c8fa159f709b4d10b463206a788a8c92\\\\setup.py'\"'\"';f=getattr(tokenize, '\"'\"'open'\"'\"', open)(__file__);code=f.read().replace('\"'\"'\\r\\n'\"'\"', '\"'\"'\\n'\"'\"');f.close();exec(compile(code, __file__, '\"'\"'exec'\"'\"'))' egg_info --egg-base 'C:\\Users\\Alien\\AppData\\Local\\Temp\\pip-pip-egg-info-_6rgmuy2'\n",
      "         cwd: C:\\Users\\Alien\\AppData\\Local\\Temp\\pip-install-zvdt3i_e\\fiona_c8fa159f709b4d10b463206a788a8c92\\\n",
      "    Complete output (1 lines):\n",
      "    A GDAL API version must be specified. Provide a path to gdal-config using a GDAL_CONFIG environment variable or use a GDAL_VERSION environment variable.\n",
      "    ----------------------------------------\n",
      "WARNING: Discarding https://files.pythonhosted.org/packages/9f/e8/401cdaa58d862a25c4b3365acf7d2bd7ac77191e3dc9acdcdac0eff20ff0/Fiona-1.8.18.tar.gz#sha256=b732ece0ff8886a29c439723a3e1fc382718804bb057519d537a81308854967a (from https://pypi.org/simple/fiona/). Command errored out with exit status 1: python setup.py egg_info Check the logs for full command output.\n",
      "    ERROR: Command errored out with exit status 1:\n",
      "     command: 'C:\\Users\\Alien\\anaconda3\\python.exe' -c 'import sys, setuptools, tokenize; sys.argv[0] = '\"'\"'C:\\\\Users\\\\Alien\\\\AppData\\\\Local\\\\Temp\\\\pip-install-zvdt3i_e\\\\fiona_c67729fbfbf340f3ae556de941eae3f9\\\\setup.py'\"'\"'; __file__='\"'\"'C:\\\\Users\\\\Alien\\\\AppData\\\\Local\\\\Temp\\\\pip-install-zvdt3i_e\\\\fiona_c67729fbfbf340f3ae556de941eae3f9\\\\setup.py'\"'\"';f=getattr(tokenize, '\"'\"'open'\"'\"', open)(__file__);code=f.read().replace('\"'\"'\\r\\n'\"'\"', '\"'\"'\\n'\"'\"');f.close();exec(compile(code, __file__, '\"'\"'exec'\"'\"'))' egg_info --egg-base 'C:\\Users\\Alien\\AppData\\Local\\Temp\\pip-pip-egg-info-7k8o6lin'\n",
      "         cwd: C:\\Users\\Alien\\AppData\\Local\\Temp\\pip-install-zvdt3i_e\\fiona_c67729fbfbf340f3ae556de941eae3f9\\\n",
      "    Complete output (1 lines):\n",
      "    A GDAL API version must be specified. Provide a path to gdal-config using a GDAL_CONFIG environment variable or use a GDAL_VERSION environment variable.\n",
      "    ----------------------------------------\n",
      "WARNING: Discarding https://files.pythonhosted.org/packages/88/62/69347ba2c41b526e1953c4cb66d51170b2869808863c03af202ba0121670/Fiona-1.8.17.tar.gz#sha256=716201c21246587f374785bec6d6a20a984fe1f6c2b0e83bf15127eb8f724d0c (from https://pypi.org/simple/fiona/). Command errored out with exit status 1: python setup.py egg_info Check the logs for full command output.\n",
      "    ERROR: Command errored out with exit status 1:\n",
      "     command: 'C:\\Users\\Alien\\anaconda3\\python.exe' -c 'import sys, setuptools, tokenize; sys.argv[0] = '\"'\"'C:\\\\Users\\\\Alien\\\\AppData\\\\Local\\\\Temp\\\\pip-install-zvdt3i_e\\\\fiona_ef4263b74dab48e09aea45e920d4ed8f\\\\setup.py'\"'\"'; __file__='\"'\"'C:\\\\Users\\\\Alien\\\\AppData\\\\Local\\\\Temp\\\\pip-install-zvdt3i_e\\\\fiona_ef4263b74dab48e09aea45e920d4ed8f\\\\setup.py'\"'\"';f=getattr(tokenize, '\"'\"'open'\"'\"', open)(__file__);code=f.read().replace('\"'\"'\\r\\n'\"'\"', '\"'\"'\\n'\"'\"');f.close();exec(compile(code, __file__, '\"'\"'exec'\"'\"'))' egg_info --egg-base 'C:\\Users\\Alien\\AppData\\Local\\Temp\\pip-pip-egg-info-xwyt54wz'\n",
      "         cwd: C:\\Users\\Alien\\AppData\\Local\\Temp\\pip-install-zvdt3i_e\\fiona_ef4263b74dab48e09aea45e920d4ed8f\\\n",
      "    Complete output (1 lines):\n",
      "    A GDAL API version must be specified. Provide a path to gdal-config using a GDAL_CONFIG environment variable or use a GDAL_VERSION environment variable.\n",
      "    ----------------------------------------\n",
      "WARNING: Discarding https://files.pythonhosted.org/packages/1e/60/dfc6115a11338d8aa96cacd8c60635223d9c97d61d556c90acc5dfd663fa/Fiona-1.8.16.tar.gz#sha256=fd6dfb65959becc916e9f6928618bfd59c16cdbc413ece0fbac61489cd11255f (from https://pypi.org/simple/fiona/). Command errored out with exit status 1: python setup.py egg_info Check the logs for full command output.\n",
      "    ERROR: Command errored out with exit status 1:\n",
      "     command: 'C:\\Users\\Alien\\anaconda3\\python.exe' -c 'import sys, setuptools, tokenize; sys.argv[0] = '\"'\"'C:\\\\Users\\\\Alien\\\\AppData\\\\Local\\\\Temp\\\\pip-install-zvdt3i_e\\\\fiona_a35fe67eccc24a738ec9f68b8ddbac46\\\\setup.py'\"'\"'; __file__='\"'\"'C:\\\\Users\\\\Alien\\\\AppData\\\\Local\\\\Temp\\\\pip-install-zvdt3i_e\\\\fiona_a35fe67eccc24a738ec9f68b8ddbac46\\\\setup.py'\"'\"';f=getattr(tokenize, '\"'\"'open'\"'\"', open)(__file__);code=f.read().replace('\"'\"'\\r\\n'\"'\"', '\"'\"'\\n'\"'\"');f.close();exec(compile(code, __file__, '\"'\"'exec'\"'\"'))' egg_info --egg-base 'C:\\Users\\Alien\\AppData\\Local\\Temp\\pip-pip-egg-info-ui6ye8xy'\n",
      "         cwd: C:\\Users\\Alien\\AppData\\Local\\Temp\\pip-install-zvdt3i_e\\fiona_a35fe67eccc24a738ec9f68b8ddbac46\\\n",
      "    Complete output (1 lines):\n",
      "    A GDAL API version must be specified. Provide a path to gdal-config using a GDAL_CONFIG environment variable or use a GDAL_VERSION environment variable.\n",
      "    ----------------------------------------\n",
      "WARNING: Discarding https://files.pythonhosted.org/packages/55/2f/17450ec2c8fcc720a8a3e4d9a383499508475c7cfb90f7eca9fb585ac598/Fiona-1.8.15.tar.gz#sha256=3b1c9b5c834fae2fe947cfaea176db890bc6750d1a6ba9f54d969c19ffcd191e (from https://pypi.org/simple/fiona/). Command errored out with exit status 1: python setup.py egg_info Check the logs for full command output.\n",
      "    ERROR: Command errored out with exit status 1:\n",
      "     command: 'C:\\Users\\Alien\\anaconda3\\python.exe' -c 'import sys, setuptools, tokenize; sys.argv[0] = '\"'\"'C:\\\\Users\\\\Alien\\\\AppData\\\\Local\\\\Temp\\\\pip-install-zvdt3i_e\\\\fiona_78d18814106241498f48c57ede94126d\\\\setup.py'\"'\"'; __file__='\"'\"'C:\\\\Users\\\\Alien\\\\AppData\\\\Local\\\\Temp\\\\pip-install-zvdt3i_e\\\\fiona_78d18814106241498f48c57ede94126d\\\\setup.py'\"'\"';f=getattr(tokenize, '\"'\"'open'\"'\"', open)(__file__);code=f.read().replace('\"'\"'\\r\\n'\"'\"', '\"'\"'\\n'\"'\"');f.close();exec(compile(code, __file__, '\"'\"'exec'\"'\"'))' egg_info --egg-base 'C:\\Users\\Alien\\AppData\\Local\\Temp\\pip-pip-egg-info-ht4m4uts'\n",
      "         cwd: C:\\Users\\Alien\\AppData\\Local\\Temp\\pip-install-zvdt3i_e\\fiona_78d18814106241498f48c57ede94126d\\\n",
      "    Complete output (1 lines):\n",
      "    A GDAL API version must be specified. Provide a path to gdal-config using a GDAL_CONFIG environment variable or use a GDAL_VERSION environment variable.\n",
      "    ----------------------------------------\n",
      "WARNING: Discarding https://files.pythonhosted.org/packages/5c/fd/5ec54f2d9b3d5dd23dd443fad5630d6b872e2664814c68b856c47e0d65af/Fiona-1.8.14.tar.gz#sha256=6eac038206c89d2cf5f99ea38b81cc228dc21eac5f47870a9a32d453b0007f4d (from https://pypi.org/simple/fiona/). Command errored out with exit status 1: python setup.py egg_info Check the logs for full command output.\n",
      "    ERROR: Command errored out with exit status 1:\n",
      "     command: 'C:\\Users\\Alien\\anaconda3\\python.exe' -c 'import sys, setuptools, tokenize; sys.argv[0] = '\"'\"'C:\\\\Users\\\\Alien\\\\AppData\\\\Local\\\\Temp\\\\pip-install-zvdt3i_e\\\\fiona_8dcaeed60b36470387f79615232f9b84\\\\setup.py'\"'\"'; __file__='\"'\"'C:\\\\Users\\\\Alien\\\\AppData\\\\Local\\\\Temp\\\\pip-install-zvdt3i_e\\\\fiona_8dcaeed60b36470387f79615232f9b84\\\\setup.py'\"'\"';f=getattr(tokenize, '\"'\"'open'\"'\"', open)(__file__);code=f.read().replace('\"'\"'\\r\\n'\"'\"', '\"'\"'\\n'\"'\"');f.close();exec(compile(code, __file__, '\"'\"'exec'\"'\"'))' egg_info --egg-base 'C:\\Users\\Alien\\AppData\\Local\\Temp\\pip-pip-egg-info-opvs0h23'\n",
      "         cwd: C:\\Users\\Alien\\AppData\\Local\\Temp\\pip-install-zvdt3i_e\\fiona_8dcaeed60b36470387f79615232f9b84\\\n",
      "    Complete output (1 lines):\n",
      "    A GDAL API version must be specified. Provide a path to gdal-config using a GDAL_CONFIG environment variable or use a GDAL_VERSION environment variable.\n",
      "    ----------------------------------------\n",
      "WARNING: Discarding https://files.pythonhosted.org/packages/6d/42/f4a7cac53b28fa70e9a93d0e89a24d33e14826dad6644b699362ad84dde0/Fiona-1.8.13.post1.tar.gz#sha256=1a432bf9fd56f089256c010da009c90d4a795c531a848132c965052185336600 (from https://pypi.org/simple/fiona/). Command errored out with exit status 1: python setup.py egg_info Check the logs for full command output.\n",
      "    ERROR: Command errored out with exit status 1:\n",
      "     command: 'C:\\Users\\Alien\\anaconda3\\python.exe' -c 'import sys, setuptools, tokenize; sys.argv[0] = '\"'\"'C:\\\\Users\\\\Alien\\\\AppData\\\\Local\\\\Temp\\\\pip-install-zvdt3i_e\\\\fiona_8dcafe21fc294685a006f764d15e8e14\\\\setup.py'\"'\"'; __file__='\"'\"'C:\\\\Users\\\\Alien\\\\AppData\\\\Local\\\\Temp\\\\pip-install-zvdt3i_e\\\\fiona_8dcafe21fc294685a006f764d15e8e14\\\\setup.py'\"'\"';f=getattr(tokenize, '\"'\"'open'\"'\"', open)(__file__);code=f.read().replace('\"'\"'\\r\\n'\"'\"', '\"'\"'\\n'\"'\"');f.close();exec(compile(code, __file__, '\"'\"'exec'\"'\"'))' egg_info --egg-base 'C:\\Users\\Alien\\AppData\\Local\\Temp\\pip-pip-egg-info-yty11bce'\n",
      "         cwd: C:\\Users\\Alien\\AppData\\Local\\Temp\\pip-install-zvdt3i_e\\fiona_8dcafe21fc294685a006f764d15e8e14\\\n",
      "    Complete output (1 lines):\n",
      "    A GDAL API version must be specified. Provide a path to gdal-config using a GDAL_CONFIG environment variable or use a GDAL_VERSION environment variable.\n",
      "    ----------------------------------------\n",
      "WARNING: Discarding https://files.pythonhosted.org/packages/be/04/31d0a6f03943b1684f32c9b861be40c1fd282468fa6bd54ddf4a774e6b0f/Fiona-1.8.13.tar.gz#sha256=5ec34898c8b983a723fb4e949dd3e0ed7e691c303e51f6bfd61e52ac9ac813ae (from https://pypi.org/simple/fiona/). Command errored out with exit status 1: python setup.py egg_info Check the logs for full command output.\n",
      "    ERROR: Command errored out with exit status 1:\n",
      "     command: 'C:\\Users\\Alien\\anaconda3\\python.exe' -c 'import sys, setuptools, tokenize; sys.argv[0] = '\"'\"'C:\\\\Users\\\\Alien\\\\AppData\\\\Local\\\\Temp\\\\pip-install-zvdt3i_e\\\\fiona_6c5e92df954b4309aa2147e03f8ee4e4\\\\setup.py'\"'\"'; __file__='\"'\"'C:\\\\Users\\\\Alien\\\\AppData\\\\Local\\\\Temp\\\\pip-install-zvdt3i_e\\\\fiona_6c5e92df954b4309aa2147e03f8ee4e4\\\\setup.py'\"'\"';f=getattr(tokenize, '\"'\"'open'\"'\"', open)(__file__);code=f.read().replace('\"'\"'\\r\\n'\"'\"', '\"'\"'\\n'\"'\"');f.close();exec(compile(code, __file__, '\"'\"'exec'\"'\"'))' egg_info --egg-base 'C:\\Users\\Alien\\AppData\\Local\\Temp\\pip-pip-egg-info-ag_pjzs5'\n",
      "         cwd: C:\\Users\\Alien\\AppData\\Local\\Temp\\pip-install-zvdt3i_e\\fiona_6c5e92df954b4309aa2147e03f8ee4e4\\\n",
      "    Complete output (1 lines):\n",
      "    A GDAL API version must be specified. Provide a path to gdal-config using a GDAL_CONFIG environment variable or use a GDAL_VERSION environment variable.\n",
      "    ----------------------------------------\n",
      "WARNING: Discarding https://files.pythonhosted.org/packages/97/d8/feab39987296437fbdc3029fb39752a14355d217d73b93471010b8dd63a3/Fiona-1.8.12.tar.gz#sha256=c9266ddf6ae2a64fcea20014ddf27f800ac07584f2fdb09c2a02f3b3a52e371c (from https://pypi.org/simple/fiona/). Command errored out with exit status 1: python setup.py egg_info Check the logs for full command output.\n",
      "    ERROR: Command errored out with exit status 1:\n",
      "     command: 'C:\\Users\\Alien\\anaconda3\\python.exe' -c 'import sys, setuptools, tokenize; sys.argv[0] = '\"'\"'C:\\\\Users\\\\Alien\\\\AppData\\\\Local\\\\Temp\\\\pip-install-zvdt3i_e\\\\fiona_22604a05dc994dad969c6641a3a105b7\\\\setup.py'\"'\"'; __file__='\"'\"'C:\\\\Users\\\\Alien\\\\AppData\\\\Local\\\\Temp\\\\pip-install-zvdt3i_e\\\\fiona_22604a05dc994dad969c6641a3a105b7\\\\setup.py'\"'\"';f=getattr(tokenize, '\"'\"'open'\"'\"', open)(__file__);code=f.read().replace('\"'\"'\\r\\n'\"'\"', '\"'\"'\\n'\"'\"');f.close();exec(compile(code, __file__, '\"'\"'exec'\"'\"'))' egg_info --egg-base 'C:\\Users\\Alien\\AppData\\Local\\Temp\\pip-pip-egg-info-e5_l7t7g'\n",
      "         cwd: C:\\Users\\Alien\\AppData\\Local\\Temp\\pip-install-zvdt3i_e\\fiona_22604a05dc994dad969c6641a3a105b7\\\n",
      "    Complete output (1 lines):\n",
      "    A GDAL API version must be specified. Provide a path to gdal-config using a GDAL_CONFIG environment variable or use a GDAL_VERSION environment variable.\n",
      "    ----------------------------------------\n",
      "WARNING: Discarding https://files.pythonhosted.org/packages/9d/f4/0a0ddc6174c4a93679b5f1dd3535e7ef8989828e6d5f86112de681f8c87b/Fiona-1.8.11.tar.gz#sha256=1e7ca9e051f5bffa1c43c70d573da9ca223fc076b84fa73380614fc02b9eb7f6 (from https://pypi.org/simple/fiona/). Command errored out with exit status 1: python setup.py egg_info Check the logs for full command output.\n",
      "    ERROR: Command errored out with exit status 1:\n",
      "     command: 'C:\\Users\\Alien\\anaconda3\\python.exe' -c 'import sys, setuptools, tokenize; sys.argv[0] = '\"'\"'C:\\\\Users\\\\Alien\\\\AppData\\\\Local\\\\Temp\\\\pip-install-zvdt3i_e\\\\fiona_23b084eb63284c61b7816fe5146c6855\\\\setup.py'\"'\"'; __file__='\"'\"'C:\\\\Users\\\\Alien\\\\AppData\\\\Local\\\\Temp\\\\pip-install-zvdt3i_e\\\\fiona_23b084eb63284c61b7816fe5146c6855\\\\setup.py'\"'\"';f=getattr(tokenize, '\"'\"'open'\"'\"', open)(__file__);code=f.read().replace('\"'\"'\\r\\n'\"'\"', '\"'\"'\\n'\"'\"');f.close();exec(compile(code, __file__, '\"'\"'exec'\"'\"'))' egg_info --egg-base 'C:\\Users\\Alien\\AppData\\Local\\Temp\\pip-pip-egg-info-ztfjc100'\n",
      "         cwd: C:\\Users\\Alien\\AppData\\Local\\Temp\\pip-install-zvdt3i_e\\fiona_23b084eb63284c61b7816fe5146c6855\\\n",
      "    Complete output (1 lines):\n",
      "    A GDAL API version must be specified. Provide a path to gdal-config using a GDAL_CONFIG environment variable or use a GDAL_VERSION environment variable.\n",
      "    ----------------------------------------\n",
      "WARNING: Discarding https://files.pythonhosted.org/packages/13/73/f80b491ed8559326fab202a6d6333a3cd6e8be1e9d782bc6c0d03d476457/Fiona-1.8.10.tar.gz#sha256=ff562eb2f3960e21f8c7f050ddd7f47a763869ea14afc2234a40df72666c6a2c (from https://pypi.org/simple/fiona/). Command errored out with exit status 1: python setup.py egg_info Check the logs for full command output.\n",
      "    ERROR: Command errored out with exit status 1:\n",
      "     command: 'C:\\Users\\Alien\\anaconda3\\python.exe' -c 'import sys, setuptools, tokenize; sys.argv[0] = '\"'\"'C:\\\\Users\\\\Alien\\\\AppData\\\\Local\\\\Temp\\\\pip-install-zvdt3i_e\\\\fiona_6cfd3fbb6ef345dfaa2a8ae79c090e05\\\\setup.py'\"'\"'; __file__='\"'\"'C:\\\\Users\\\\Alien\\\\AppData\\\\Local\\\\Temp\\\\pip-install-zvdt3i_e\\\\fiona_6cfd3fbb6ef345dfaa2a8ae79c090e05\\\\setup.py'\"'\"';f=getattr(tokenize, '\"'\"'open'\"'\"', open)(__file__);code=f.read().replace('\"'\"'\\r\\n'\"'\"', '\"'\"'\\n'\"'\"');f.close();exec(compile(code, __file__, '\"'\"'exec'\"'\"'))' egg_info --egg-base 'C:\\Users\\Alien\\AppData\\Local\\Temp\\pip-pip-egg-info-t0ujfbwe'\n",
      "         cwd: C:\\Users\\Alien\\AppData\\Local\\Temp\\pip-install-zvdt3i_e\\fiona_6cfd3fbb6ef345dfaa2a8ae79c090e05\\\n",
      "    Complete output (1 lines):\n",
      "    A GDAL API version must be specified. Provide a path to gdal-config using a GDAL_CONFIG environment variable or use a GDAL_VERSION environment variable.\n",
      "    ----------------------------------------\n",
      "WARNING: Discarding https://files.pythonhosted.org/packages/9b/52/45e75507660ce0e86176d0f59b659560f687e2c7e9ebf82a10e7dcd2d3b7/Fiona-1.8.9.post2.tar.gz#sha256=210fb038b579fab38f35ddbdd31b9725f4d5099b3edfd4b87c983e5d47b79983 (from https://pypi.org/simple/fiona/). Command errored out with exit status 1: python setup.py egg_info Check the logs for full command output.\n",
      "    ERROR: Command errored out with exit status 1:\n",
      "     command: 'C:\\Users\\Alien\\anaconda3\\python.exe' -c 'import sys, setuptools, tokenize; sys.argv[0] = '\"'\"'C:\\\\Users\\\\Alien\\\\AppData\\\\Local\\\\Temp\\\\pip-install-zvdt3i_e\\\\fiona_7837b745b508435d9fdbc9037b1be1a9\\\\setup.py'\"'\"'; __file__='\"'\"'C:\\\\Users\\\\Alien\\\\AppData\\\\Local\\\\Temp\\\\pip-install-zvdt3i_e\\\\fiona_7837b745b508435d9fdbc9037b1be1a9\\\\setup.py'\"'\"';f=getattr(tokenize, '\"'\"'open'\"'\"', open)(__file__);code=f.read().replace('\"'\"'\\r\\n'\"'\"', '\"'\"'\\n'\"'\"');f.close();exec(compile(code, __file__, '\"'\"'exec'\"'\"'))' egg_info --egg-base 'C:\\Users\\Alien\\AppData\\Local\\Temp\\pip-pip-egg-info-y3tu7686'\n",
      "         cwd: C:\\Users\\Alien\\AppData\\Local\\Temp\\pip-install-zvdt3i_e\\fiona_7837b745b508435d9fdbc9037b1be1a9\\\n",
      "    Complete output (1 lines):\n"
     ]
    },
    {
     "name": "stderr",
     "output_type": "stream",
     "text": [
      "    A GDAL API version must be specified. Provide a path to gdal-config using a GDAL_CONFIG environment variable or use a GDAL_VERSION environment variable.\n",
      "    ----------------------------------------\n",
      "WARNING: Discarding https://files.pythonhosted.org/packages/0e/a4/d9dd7399be809d3990f5000fb6ae43189ea26ae88be1bed3a4c9ddc1becc/Fiona-1.8.9.post1.tar.gz#sha256=d5e0ea0b8addffe9cba4cb59e2bd495b015230e7a1b1597974f5048211930199 (from https://pypi.org/simple/fiona/). Command errored out with exit status 1: python setup.py egg_info Check the logs for full command output.\n",
      "    ERROR: Command errored out with exit status 1:\n",
      "     command: 'C:\\Users\\Alien\\anaconda3\\python.exe' -c 'import sys, setuptools, tokenize; sys.argv[0] = '\"'\"'C:\\\\Users\\\\Alien\\\\AppData\\\\Local\\\\Temp\\\\pip-install-zvdt3i_e\\\\fiona_aa4b93dbaab54ece8a766ccc5deb0feb\\\\setup.py'\"'\"'; __file__='\"'\"'C:\\\\Users\\\\Alien\\\\AppData\\\\Local\\\\Temp\\\\pip-install-zvdt3i_e\\\\fiona_aa4b93dbaab54ece8a766ccc5deb0feb\\\\setup.py'\"'\"';f=getattr(tokenize, '\"'\"'open'\"'\"', open)(__file__);code=f.read().replace('\"'\"'\\r\\n'\"'\"', '\"'\"'\\n'\"'\"');f.close();exec(compile(code, __file__, '\"'\"'exec'\"'\"'))' egg_info --egg-base 'C:\\Users\\Alien\\AppData\\Local\\Temp\\pip-pip-egg-info-9th0162d'\n",
      "         cwd: C:\\Users\\Alien\\AppData\\Local\\Temp\\pip-install-zvdt3i_e\\fiona_aa4b93dbaab54ece8a766ccc5deb0feb\\\n",
      "    Complete output (1 lines):\n",
      "    A GDAL API version must be specified. Provide a path to gdal-config using a GDAL_CONFIG environment variable or use a GDAL_VERSION environment variable.\n",
      "    ----------------------------------------\n",
      "WARNING: Discarding https://files.pythonhosted.org/packages/ad/92/dcbd8c54d697c22f299b5af63b6df3acfbd06c6d72e249614c05be99337c/Fiona-1.8.9.tar.gz#sha256=4dd6e2f5327c1174143c7c8594a75d373bc72f2c9a2a6daee312c3186a128add (from https://pypi.org/simple/fiona/). Command errored out with exit status 1: python setup.py egg_info Check the logs for full command output.\n",
      "    ERROR: Command errored out with exit status 1:\n",
      "     command: 'C:\\Users\\Alien\\anaconda3\\python.exe' -c 'import sys, setuptools, tokenize; sys.argv[0] = '\"'\"'C:\\\\Users\\\\Alien\\\\AppData\\\\Local\\\\Temp\\\\pip-install-zvdt3i_e\\\\fiona_81c4122ebe2e4ae89a82bb7574e51a39\\\\setup.py'\"'\"'; __file__='\"'\"'C:\\\\Users\\\\Alien\\\\AppData\\\\Local\\\\Temp\\\\pip-install-zvdt3i_e\\\\fiona_81c4122ebe2e4ae89a82bb7574e51a39\\\\setup.py'\"'\"';f=getattr(tokenize, '\"'\"'open'\"'\"', open)(__file__);code=f.read().replace('\"'\"'\\r\\n'\"'\"', '\"'\"'\\n'\"'\"');f.close();exec(compile(code, __file__, '\"'\"'exec'\"'\"'))' egg_info --egg-base 'C:\\Users\\Alien\\AppData\\Local\\Temp\\pip-pip-egg-info-e2lbvaqm'\n",
      "         cwd: C:\\Users\\Alien\\AppData\\Local\\Temp\\pip-install-zvdt3i_e\\fiona_81c4122ebe2e4ae89a82bb7574e51a39\\\n",
      "    Complete output (1 lines):\n",
      "    A GDAL API version must be specified. Provide a path to gdal-config using a GDAL_CONFIG environment variable or use a GDAL_VERSION environment variable.\n",
      "    ----------------------------------------\n",
      "WARNING: Discarding https://files.pythonhosted.org/packages/94/7f/e288db1ad63d759d494c30caae34f865e0c6927588c490705e91b7134193/Fiona-1.8.8.tar.gz#sha256=711c3be73203b37812992089445a1e4e9d3d6b64e667389f7b15406e15a91e83 (from https://pypi.org/simple/fiona/). Command errored out with exit status 1: python setup.py egg_info Check the logs for full command output.\n",
      "    ERROR: Command errored out with exit status 1:\n",
      "     command: 'C:\\Users\\Alien\\anaconda3\\python.exe' -c 'import sys, setuptools, tokenize; sys.argv[0] = '\"'\"'C:\\\\Users\\\\Alien\\\\AppData\\\\Local\\\\Temp\\\\pip-install-zvdt3i_e\\\\fiona_0bc4badde8b645268f39871663af0a97\\\\setup.py'\"'\"'; __file__='\"'\"'C:\\\\Users\\\\Alien\\\\AppData\\\\Local\\\\Temp\\\\pip-install-zvdt3i_e\\\\fiona_0bc4badde8b645268f39871663af0a97\\\\setup.py'\"'\"';f=getattr(tokenize, '\"'\"'open'\"'\"', open)(__file__);code=f.read().replace('\"'\"'\\r\\n'\"'\"', '\"'\"'\\n'\"'\"');f.close();exec(compile(code, __file__, '\"'\"'exec'\"'\"'))' egg_info --egg-base 'C:\\Users\\Alien\\AppData\\Local\\Temp\\pip-pip-egg-info-udqdzh50'\n",
      "         cwd: C:\\Users\\Alien\\AppData\\Local\\Temp\\pip-install-zvdt3i_e\\fiona_0bc4badde8b645268f39871663af0a97\\\n",
      "    Complete output (1 lines):\n",
      "    A GDAL API version must be specified. Provide a path to gdal-config using a GDAL_CONFIG environment variable or use a GDAL_VERSION environment variable.\n",
      "    ----------------------------------------\n",
      "WARNING: Discarding https://files.pythonhosted.org/packages/78/62/daafd070aebefa639df247705b97f13f7cfad43895581b5cae41bd886709/Fiona-1.8.7.tar.gz#sha256=a55a23615bad3e142d4e4cda97bb5de83c778a80049222e9dffae93c13b5cf93 (from https://pypi.org/simple/fiona/). Command errored out with exit status 1: python setup.py egg_info Check the logs for full command output.\n",
      "    ERROR: Command errored out with exit status 1:\n",
      "     command: 'C:\\Users\\Alien\\anaconda3\\python.exe' -c 'import sys, setuptools, tokenize; sys.argv[0] = '\"'\"'C:\\\\Users\\\\Alien\\\\AppData\\\\Local\\\\Temp\\\\pip-install-zvdt3i_e\\\\fiona_fa5b9fe9f6264e4fadeb86aca91a19ef\\\\setup.py'\"'\"'; __file__='\"'\"'C:\\\\Users\\\\Alien\\\\AppData\\\\Local\\\\Temp\\\\pip-install-zvdt3i_e\\\\fiona_fa5b9fe9f6264e4fadeb86aca91a19ef\\\\setup.py'\"'\"';f=getattr(tokenize, '\"'\"'open'\"'\"', open)(__file__);code=f.read().replace('\"'\"'\\r\\n'\"'\"', '\"'\"'\\n'\"'\"');f.close();exec(compile(code, __file__, '\"'\"'exec'\"'\"'))' egg_info --egg-base 'C:\\Users\\Alien\\AppData\\Local\\Temp\\pip-pip-egg-info-m5_9z7vv'\n",
      "         cwd: C:\\Users\\Alien\\AppData\\Local\\Temp\\pip-install-zvdt3i_e\\fiona_fa5b9fe9f6264e4fadeb86aca91a19ef\\\n",
      "    Complete output (1 lines):\n",
      "    A GDAL API version must be specified. Provide a path to gdal-config using a GDAL_CONFIG environment variable or use a GDAL_VERSION environment variable.\n",
      "    ----------------------------------------\n",
      "WARNING: Discarding https://files.pythonhosted.org/packages/41/9d/63696e7b1de42aad294d4781199a408bec593d8fdb80a2b4a788c911a33b/Fiona-1.8.6.tar.gz#sha256=fa31dfe8855b9cd0b128b47a4df558f1b8eda90d2181bff1dd9854e5556efb3e (from https://pypi.org/simple/fiona/). Command errored out with exit status 1: python setup.py egg_info Check the logs for full command output.\n",
      "    ERROR: Command errored out with exit status 1:\n",
      "     command: 'C:\\Users\\Alien\\anaconda3\\python.exe' -c 'import sys, setuptools, tokenize; sys.argv[0] = '\"'\"'C:\\\\Users\\\\Alien\\\\AppData\\\\Local\\\\Temp\\\\pip-install-zvdt3i_e\\\\fiona_66313eea558f4fa89207cd49f4bf5ded\\\\setup.py'\"'\"'; __file__='\"'\"'C:\\\\Users\\\\Alien\\\\AppData\\\\Local\\\\Temp\\\\pip-install-zvdt3i_e\\\\fiona_66313eea558f4fa89207cd49f4bf5ded\\\\setup.py'\"'\"';f=getattr(tokenize, '\"'\"'open'\"'\"', open)(__file__);code=f.read().replace('\"'\"'\\r\\n'\"'\"', '\"'\"'\\n'\"'\"');f.close();exec(compile(code, __file__, '\"'\"'exec'\"'\"'))' egg_info --egg-base 'C:\\Users\\Alien\\AppData\\Local\\Temp\\pip-pip-egg-info-51n8zt87'\n",
      "         cwd: C:\\Users\\Alien\\AppData\\Local\\Temp\\pip-install-zvdt3i_e\\fiona_66313eea558f4fa89207cd49f4bf5ded\\\n",
      "    Complete output (1 lines):\n",
      "    A GDAL API version must be specified. Provide a path to gdal-config using a GDAL_CONFIG environment variable or use a GDAL_VERSION environment variable.\n",
      "    ----------------------------------------\n",
      "WARNING: Discarding https://files.pythonhosted.org/packages/7b/af/1c2c83c4a8363a4ce9fea817b1910b5e071bed012e18257faa2a0ab3cfe7/Fiona-1.8.5.tar.gz#sha256=4f5cc2d449edbbf693c83e24cdada72de7c41297383d16fcc92387eb445e9d35 (from https://pypi.org/simple/fiona/). Command errored out with exit status 1: python setup.py egg_info Check the logs for full command output.\n",
      "    ERROR: Command errored out with exit status 1:\n",
      "     command: 'C:\\Users\\Alien\\anaconda3\\python.exe' -c 'import sys, setuptools, tokenize; sys.argv[0] = '\"'\"'C:\\\\Users\\\\Alien\\\\AppData\\\\Local\\\\Temp\\\\pip-install-zvdt3i_e\\\\fiona_95bbead37b2f476aa5dad2d76ffbf068\\\\setup.py'\"'\"'; __file__='\"'\"'C:\\\\Users\\\\Alien\\\\AppData\\\\Local\\\\Temp\\\\pip-install-zvdt3i_e\\\\fiona_95bbead37b2f476aa5dad2d76ffbf068\\\\setup.py'\"'\"';f=getattr(tokenize, '\"'\"'open'\"'\"', open)(__file__);code=f.read().replace('\"'\"'\\r\\n'\"'\"', '\"'\"'\\n'\"'\"');f.close();exec(compile(code, __file__, '\"'\"'exec'\"'\"'))' egg_info --egg-base 'C:\\Users\\Alien\\AppData\\Local\\Temp\\pip-pip-egg-info-vontfuvy'\n",
      "         cwd: C:\\Users\\Alien\\AppData\\Local\\Temp\\pip-install-zvdt3i_e\\fiona_95bbead37b2f476aa5dad2d76ffbf068\\\n",
      "    Complete output (1 lines):\n",
      "    A GDAL API version must be specified. Provide a path to gdal-config using a GDAL_CONFIG environment variable or use a GDAL_VERSION environment variable.\n",
      "    ----------------------------------------\n",
      "WARNING: Discarding https://files.pythonhosted.org/packages/3a/16/84960540e9fce61d767fd2f0f1d95f4c63e99ab5d8fddc308e8b51b059b8/Fiona-1.8.4.tar.gz#sha256=aec9ab2e3513c9503ec123b1a8573bee55fc6a66e2ac07088c3376bf6738a424 (from https://pypi.org/simple/fiona/). Command errored out with exit status 1: python setup.py egg_info Check the logs for full command output.\n",
      "    ERROR: Command errored out with exit status 1:\n",
      "     command: 'C:\\Users\\Alien\\anaconda3\\python.exe' -c 'import sys, setuptools, tokenize; sys.argv[0] = '\"'\"'C:\\\\Users\\\\Alien\\\\AppData\\\\Local\\\\Temp\\\\pip-install-zvdt3i_e\\\\fiona_be393d70731446bb9f11c7dd3da625ab\\\\setup.py'\"'\"'; __file__='\"'\"'C:\\\\Users\\\\Alien\\\\AppData\\\\Local\\\\Temp\\\\pip-install-zvdt3i_e\\\\fiona_be393d70731446bb9f11c7dd3da625ab\\\\setup.py'\"'\"';f=getattr(tokenize, '\"'\"'open'\"'\"', open)(__file__);code=f.read().replace('\"'\"'\\r\\n'\"'\"', '\"'\"'\\n'\"'\"');f.close();exec(compile(code, __file__, '\"'\"'exec'\"'\"'))' egg_info --egg-base 'C:\\Users\\Alien\\AppData\\Local\\Temp\\pip-pip-egg-info-il8sb0zf'\n",
      "         cwd: C:\\Users\\Alien\\AppData\\Local\\Temp\\pip-install-zvdt3i_e\\fiona_be393d70731446bb9f11c7dd3da625ab\\\n",
      "    Complete output (1 lines):\n",
      "    A GDAL API version must be specified. Provide a path to gdal-config using a GDAL_CONFIG environment variable or use a GDAL_VERSION environment variable.\n",
      "    ----------------------------------------\n",
      "WARNING: Discarding https://files.pythonhosted.org/packages/46/d1/fcdb32513a03abfde0d97fd9782ce0f8cc0540fa6c6ce783e87b94064964/Fiona-1.8.3.tar.gz#sha256=3e831100a23c3b6cd32b98baf0c9e2119d909b44a5cf4533d3625f61dcf2d2b1 (from https://pypi.org/simple/fiona/). Command errored out with exit status 1: python setup.py egg_info Check the logs for full command output.\n",
      "    ERROR: Command errored out with exit status 1:\n",
      "     command: 'C:\\Users\\Alien\\anaconda3\\python.exe' -c 'import sys, setuptools, tokenize; sys.argv[0] = '\"'\"'C:\\\\Users\\\\Alien\\\\AppData\\\\Local\\\\Temp\\\\pip-install-zvdt3i_e\\\\fiona_f9e5dd4ed50f47348c67e0c501f50e13\\\\setup.py'\"'\"'; __file__='\"'\"'C:\\\\Users\\\\Alien\\\\AppData\\\\Local\\\\Temp\\\\pip-install-zvdt3i_e\\\\fiona_f9e5dd4ed50f47348c67e0c501f50e13\\\\setup.py'\"'\"';f=getattr(tokenize, '\"'\"'open'\"'\"', open)(__file__);code=f.read().replace('\"'\"'\\r\\n'\"'\"', '\"'\"'\\n'\"'\"');f.close();exec(compile(code, __file__, '\"'\"'exec'\"'\"'))' egg_info --egg-base 'C:\\Users\\Alien\\AppData\\Local\\Temp\\pip-pip-egg-info-jbegk64b'\n",
      "         cwd: C:\\Users\\Alien\\AppData\\Local\\Temp\\pip-install-zvdt3i_e\\fiona_f9e5dd4ed50f47348c67e0c501f50e13\\\n",
      "    Complete output (1 lines):\n",
      "    A GDAL API version must be specified. Provide a path to gdal-config using a GDAL_CONFIG environment variable or use a GDAL_VERSION environment variable.\n",
      "    ----------------------------------------\n",
      "WARNING: Discarding https://files.pythonhosted.org/packages/25/50/0466d5d83e1859c5ca38351ee932d64cc5635f9d4dad522879e58f4b0018/Fiona-1.8.2.tar.gz#sha256=4c6419b7ac29136708029f6a44b4ccd458735a4d241016c7b1bab41685c08d8f (from https://pypi.org/simple/fiona/). Command errored out with exit status 1: python setup.py egg_info Check the logs for full command output.\n",
      "    ERROR: Command errored out with exit status 1:\n",
      "     command: 'C:\\Users\\Alien\\anaconda3\\python.exe' -c 'import sys, setuptools, tokenize; sys.argv[0] = '\"'\"'C:\\\\Users\\\\Alien\\\\AppData\\\\Local\\\\Temp\\\\pip-install-zvdt3i_e\\\\fiona_a448d5e0fac64a9d92bbe872d8b01f39\\\\setup.py'\"'\"'; __file__='\"'\"'C:\\\\Users\\\\Alien\\\\AppData\\\\Local\\\\Temp\\\\pip-install-zvdt3i_e\\\\fiona_a448d5e0fac64a9d92bbe872d8b01f39\\\\setup.py'\"'\"';f=getattr(tokenize, '\"'\"'open'\"'\"', open)(__file__);code=f.read().replace('\"'\"'\\r\\n'\"'\"', '\"'\"'\\n'\"'\"');f.close();exec(compile(code, __file__, '\"'\"'exec'\"'\"'))' egg_info --egg-base 'C:\\Users\\Alien\\AppData\\Local\\Temp\\pip-pip-egg-info-a4ad0jz2'\n",
      "         cwd: C:\\Users\\Alien\\AppData\\Local\\Temp\\pip-install-zvdt3i_e\\fiona_a448d5e0fac64a9d92bbe872d8b01f39\\\n",
      "    Complete output (1 lines):\n",
      "    A GDAL API version must be specified. Provide a path to gdal-config using a GDAL_CONFIG environment variable or use a GDAL_VERSION environment variable.\n",
      "    ----------------------------------------\n",
      "WARNING: Discarding https://files.pythonhosted.org/packages/3e/5f/0c6704efeea2ff3fba7f54cc6ec38070157f21bc1cffa7bdfa7c9f6b8f7a/Fiona-1.8.1.tar.gz#sha256=4c34bb4c5cd788aaf14e5484c3b7de407b1a8a7c7b2d29bbb2e8b37931e83b8d (from https://pypi.org/simple/fiona/). Command errored out with exit status 1: python setup.py egg_info Check the logs for full command output.\n",
      "    ERROR: Command errored out with exit status 1:\n",
      "     command: 'C:\\Users\\Alien\\anaconda3\\python.exe' -c 'import sys, setuptools, tokenize; sys.argv[0] = '\"'\"'C:\\\\Users\\\\Alien\\\\AppData\\\\Local\\\\Temp\\\\pip-install-zvdt3i_e\\\\fiona_66e004f3a5b04166b412c28d1d69b354\\\\setup.py'\"'\"'; __file__='\"'\"'C:\\\\Users\\\\Alien\\\\AppData\\\\Local\\\\Temp\\\\pip-install-zvdt3i_e\\\\fiona_66e004f3a5b04166b412c28d1d69b354\\\\setup.py'\"'\"';f=getattr(tokenize, '\"'\"'open'\"'\"', open)(__file__);code=f.read().replace('\"'\"'\\r\\n'\"'\"', '\"'\"'\\n'\"'\"');f.close();exec(compile(code, __file__, '\"'\"'exec'\"'\"'))' egg_info --egg-base 'C:\\Users\\Alien\\AppData\\Local\\Temp\\pip-pip-egg-info-s6b161zj'\n",
      "         cwd: C:\\Users\\Alien\\AppData\\Local\\Temp\\pip-install-zvdt3i_e\\fiona_66e004f3a5b04166b412c28d1d69b354\\\n",
      "    Complete output (1 lines):\n",
      "    A GDAL API version must be specified. Provide a path to gdal-config using a GDAL_CONFIG environment variable or use a GDAL_VERSION environment variable.\n",
      "    ----------------------------------------\n",
      "WARNING: Discarding https://files.pythonhosted.org/packages/2a/bd/c1efc2680f338e5941121c776d6323af6b9698ac739e22ba523cee348a7f/Fiona-1.8.0.tar.gz#sha256=20141a9ece06daa7bb4333fba640c2fe39a49f8aca5492d1da8595d41e91844a (from https://pypi.org/simple/fiona/). Command errored out with exit status 1: python setup.py egg_info Check the logs for full command output.\n",
      "  ERROR: Command errored out with exit status 1:\n",
      "   command: 'C:\\Users\\Alien\\anaconda3\\python.exe' -u -c 'import sys, setuptools, tokenize; sys.argv[0] = '\"'\"'C:\\\\Users\\\\Alien\\\\AppData\\\\Local\\\\Temp\\\\pip-install-zvdt3i_e\\\\fiona_1018f7c18ecc472c96ada502cea114f8\\\\setup.py'\"'\"'; __file__='\"'\"'C:\\\\Users\\\\Alien\\\\AppData\\\\Local\\\\Temp\\\\pip-install-zvdt3i_e\\\\fiona_1018f7c18ecc472c96ada502cea114f8\\\\setup.py'\"'\"';f=getattr(tokenize, '\"'\"'open'\"'\"', open)(__file__);code=f.read().replace('\"'\"'\\r\\n'\"'\"', '\"'\"'\\n'\"'\"');f.close();exec(compile(code, __file__, '\"'\"'exec'\"'\"'))' bdist_wheel -d 'C:\\Users\\Alien\\AppData\\Local\\Temp\\pip-wheel-2hrz752s'\n",
      "       cwd: C:\\Users\\Alien\\AppData\\Local\\Temp\\pip-install-zvdt3i_e\\fiona_1018f7c18ecc472c96ada502cea114f8\\\n",
      "  Complete output (42 lines):\n",
      "  C:\\Users\\Alien\\anaconda3\\lib\\distutils\\dist.py:274: UserWarning: Unknown distribution option: 'metadata_version'\n",
      "    warnings.warn(msg)\n",
      "  C:\\Users\\Alien\\anaconda3\\lib\\distutils\\dist.py:274: UserWarning: Unknown distribution option: 'requires_python'\n",
      "    warnings.warn(msg)\n",
      "  C:\\Users\\Alien\\anaconda3\\lib\\distutils\\dist.py:274: UserWarning: Unknown distribution option: 'requires_external'\n",
      "    warnings.warn(msg)\n",
      "  running bdist_wheel\n",
      "  running build\n",
      "  running build_py\n",
      "  creating build\n",
      "  creating build\\lib.win-amd64-3.8\n",
      "  creating build\\lib.win-amd64-3.8\\fiona\n",
      "  copying .\\fiona\\collection.py -> build\\lib.win-amd64-3.8\\fiona\n",
      "  copying .\\fiona\\compat.py -> build\\lib.win-amd64-3.8\\fiona\n",
      "  copying .\\fiona\\crs.py -> build\\lib.win-amd64-3.8\\fiona\n",
      "  copying .\\fiona\\drvsupport.py -> build\\lib.win-amd64-3.8\\fiona\n",
      "  copying .\\fiona\\errors.py -> build\\lib.win-amd64-3.8\\fiona\n",
      "  copying .\\fiona\\inspector.py -> build\\lib.win-amd64-3.8\\fiona\n",
      "  copying .\\fiona\\rfc3339.py -> build\\lib.win-amd64-3.8\\fiona\n",
      "  copying .\\fiona\\tool.py -> build\\lib.win-amd64-3.8\\fiona\n",
      "  copying .\\fiona\\transform.py -> build\\lib.win-amd64-3.8\\fiona\n",
      "  copying .\\fiona\\__init__.py -> build\\lib.win-amd64-3.8\\fiona\n",
      "  creating build\\lib.win-amd64-3.8\\fiona\\fio\n",
      "  copying .\\fiona\\fio\\bounds.py -> build\\lib.win-amd64-3.8\\fiona\\fio\n",
      "  copying .\\fiona\\fio\\calc.py -> build\\lib.win-amd64-3.8\\fiona\\fio\n",
      "  copying .\\fiona\\fio\\cat.py -> build\\lib.win-amd64-3.8\\fiona\\fio\n",
      "  copying .\\fiona\\fio\\collect.py -> build\\lib.win-amd64-3.8\\fiona\\fio\n",
      "  copying .\\fiona\\fio\\distrib.py -> build\\lib.win-amd64-3.8\\fiona\\fio\n",
      "  copying .\\fiona\\fio\\dump.py -> build\\lib.win-amd64-3.8\\fiona\\fio\n",
      "  copying .\\fiona\\fio\\env.py -> build\\lib.win-amd64-3.8\\fiona\\fio\n",
      "  copying .\\fiona\\fio\\filter.py -> build\\lib.win-amd64-3.8\\fiona\\fio\n",
      "  copying .\\fiona\\fio\\helpers.py -> build\\lib.win-amd64-3.8\\fiona\\fio\n",
      "  copying .\\fiona\\fio\\info.py -> build\\lib.win-amd64-3.8\\fiona\\fio\n",
      "  copying .\\fiona\\fio\\insp.py -> build\\lib.win-amd64-3.8\\fiona\\fio\n",
      "  copying .\\fiona\\fio\\load.py -> build\\lib.win-amd64-3.8\\fiona\\fio\n",
      "  copying .\\fiona\\fio\\ls.py -> build\\lib.win-amd64-3.8\\fiona\\fio\n",
      "  copying .\\fiona\\fio\\main.py -> build\\lib.win-amd64-3.8\\fiona\\fio\n",
      "  copying .\\fiona\\fio\\options.py -> build\\lib.win-amd64-3.8\\fiona\\fio\n",
      "  copying .\\fiona\\fio\\__init__.py -> build\\lib.win-amd64-3.8\\fiona\\fio\n",
      "  running build_ext\n",
      "  building 'fiona._transform' extension\n",
      "  error: Microsoft Visual C++ 14.0 or greater is required. Get it with \"Microsoft C++ Build Tools\": https://visualstudio.microsoft.com/visual-cpp-build-tools/\n",
      "  ----------------------------------------\n",
      "  ERROR: Failed building wheel for fiona\n",
      "    ERROR: Command errored out with exit status 1:\n",
      "     command: 'C:\\Users\\Alien\\anaconda3\\python.exe' -u -c 'import sys, setuptools, tokenize; sys.argv[0] = '\"'\"'C:\\\\Users\\\\Alien\\\\AppData\\\\Local\\\\Temp\\\\pip-install-zvdt3i_e\\\\fiona_1018f7c18ecc472c96ada502cea114f8\\\\setup.py'\"'\"'; __file__='\"'\"'C:\\\\Users\\\\Alien\\\\AppData\\\\Local\\\\Temp\\\\pip-install-zvdt3i_e\\\\fiona_1018f7c18ecc472c96ada502cea114f8\\\\setup.py'\"'\"';f=getattr(tokenize, '\"'\"'open'\"'\"', open)(__file__);code=f.read().replace('\"'\"'\\r\\n'\"'\"', '\"'\"'\\n'\"'\"');f.close();exec(compile(code, __file__, '\"'\"'exec'\"'\"'))' install --record 'C:\\Users\\Alien\\AppData\\Local\\Temp\\pip-record-bae4ka_g\\install-record.txt' --single-version-externally-managed --compile --install-headers 'C:\\Users\\Alien\\anaconda3\\Include\\fiona'\n",
      "         cwd: C:\\Users\\Alien\\AppData\\Local\\Temp\\pip-install-zvdt3i_e\\fiona_1018f7c18ecc472c96ada502cea114f8\\\n",
      "    Complete output (12 lines):\n",
      "    C:\\Users\\Alien\\anaconda3\\lib\\distutils\\dist.py:274: UserWarning: Unknown distribution option: 'metadata_version'\n",
      "      warnings.warn(msg)\n",
      "    C:\\Users\\Alien\\anaconda3\\lib\\distutils\\dist.py:274: UserWarning: Unknown distribution option: 'requires_python'\n",
      "      warnings.warn(msg)\n",
      "    C:\\Users\\Alien\\anaconda3\\lib\\distutils\\dist.py:274: UserWarning: Unknown distribution option: 'requires_external'\n",
      "      warnings.warn(msg)\n",
      "    running install\n",
      "    running build\n",
      "    running build_py\n",
      "    running build_ext\n",
      "    building 'fiona._transform' extension\n",
      "    error: Microsoft Visual C++ 14.0 or greater is required. Get it with \"Microsoft C++ Build Tools\": https://visualstudio.microsoft.com/visual-cpp-build-tools/\n",
      "    ----------------------------------------\n",
      "ERROR: Command errored out with exit status 1: 'C:\\Users\\Alien\\anaconda3\\python.exe' -u -c 'import sys, setuptools, tokenize; sys.argv[0] = '\"'\"'C:\\\\Users\\\\Alien\\\\AppData\\\\Local\\\\Temp\\\\pip-install-zvdt3i_e\\\\fiona_1018f7c18ecc472c96ada502cea114f8\\\\setup.py'\"'\"'; __file__='\"'\"'C:\\\\Users\\\\Alien\\\\AppData\\\\Local\\\\Temp\\\\pip-install-zvdt3i_e\\\\fiona_1018f7c18ecc472c96ada502cea114f8\\\\setup.py'\"'\"';f=getattr(tokenize, '\"'\"'open'\"'\"', open)(__file__);code=f.read().replace('\"'\"'\\r\\n'\"'\"', '\"'\"'\\n'\"'\"');f.close();exec(compile(code, __file__, '\"'\"'exec'\"'\"'))' install --record 'C:\\Users\\Alien\\AppData\\Local\\Temp\\pip-record-bae4ka_g\\install-record.txt' --single-version-externally-managed --compile --install-headers 'C:\\Users\\Alien\\anaconda3\\Include\\fiona' Check the logs for full command output.\n"
     ]
    },
    {
     "name": "stdout",
     "output_type": "stream",
     "text": [
      "Requirement already satisfied: six>=1.7 in c:\\users\\alien\\anaconda3\\lib\\site-packages (from fiona->geopandas==0.3.0) (1.15.0)\n",
      "Collecting munch\n",
      "  Downloading munch-2.5.0-py2.py3-none-any.whl (10 kB)\n",
      "Requirement already satisfied: click>=4.0 in c:\\users\\alien\\anaconda3\\lib\\site-packages (from cligj>=0.4->fiona->geopandas==0.3.0) (7.1.2)\n",
      "Requirement already satisfied: python-dateutil>=2.1 in c:\\users\\alien\\anaconda3\\lib\\site-packages (from matplotlib->descartes->geopandas==0.3.0) (2.8.1)\n",
      "Requirement already satisfied: kiwisolver>=1.0.1 in c:\\users\\alien\\anaconda3\\lib\\site-packages (from matplotlib->descartes->geopandas==0.3.0) (1.3.1)\n",
      "Requirement already satisfied: pyparsing!=2.0.4,!=2.1.2,!=2.1.6,>=2.0.3 in c:\\users\\alien\\anaconda3\\lib\\site-packages (from matplotlib->descartes->geopandas==0.3.0) (2.4.7)\n",
      "Requirement already satisfied: cycler>=0.10 in c:\\users\\alien\\anaconda3\\lib\\site-packages (from matplotlib->descartes->geopandas==0.3.0) (0.10.0)\n",
      "Requirement already satisfied: pillow>=6.2.0 in c:\\users\\alien\\anaconda3\\lib\\site-packages (from matplotlib->descartes->geopandas==0.3.0) (8.2.0)\n",
      "Requirement already satisfied: numpy>=1.15 in c:\\users\\alien\\anaconda3\\lib\\site-packages (from matplotlib->descartes->geopandas==0.3.0) (1.20.1)\n",
      "Requirement already satisfied: pytz>=2017.3 in c:\\users\\alien\\anaconda3\\lib\\site-packages (from pandas->geopandas==0.3.0) (2021.1)\n",
      "Requirement already satisfied: certifi in c:\\users\\alien\\anaconda3\\lib\\site-packages (from pyproj->geopandas==0.3.0) (2020.12.5)\n",
      "Building wheels for collected packages: fiona\n",
      "  Building wheel for fiona (setup.py): started\n",
      "  Building wheel for fiona (setup.py): finished with status 'error'\n",
      "  Running setup.py clean for fiona\n",
      "Failed to build fiona\n",
      "Installing collected packages: munch, cligj, click-plugins, shapely, pyproj, fiona, descartes, geopandas\n",
      "    Running setup.py install for fiona: started\n",
      "    Running setup.py install for fiona: finished with status 'error'\n",
      "Collecting pyshp==1.2.10\n",
      "  Downloading pyshp-1.2.10.tar.gz (176 kB)\n",
      "Building wheels for collected packages: pyshp\n",
      "  Building wheel for pyshp (setup.py): started\n",
      "  Building wheel for pyshp (setup.py): finished with status 'done'\n",
      "  Created wheel for pyshp: filename=pyshp-1.2.10-py3-none-any.whl size=20467 sha256=0efaeceb4866ff6ebcb66a0b4d78508713bdbd6d6167dd5864c694239669532f\n",
      "  Stored in directory: c:\\users\\alien\\appdata\\local\\pip\\cache\\wheels\\6f\\f4\\b1\\245a940ae91c0aa70a1344c7d827cd85806bd701cb5a9f67e0\n",
      "Successfully built pyshp\n",
      "Installing collected packages: pyshp\n",
      "Successfully installed pyshp-1.2.10\n",
      "Collecting shapely==1.6.3\n",
      "  Downloading Shapely-1.6.3.tar.gz (223 kB)\n"
     ]
    },
    {
     "name": "stderr",
     "output_type": "stream",
     "text": [
      "    ERROR: Command errored out with exit status 1:\n",
      "     command: 'C:\\Users\\Alien\\anaconda3\\python.exe' -c 'import sys, setuptools, tokenize; sys.argv[0] = '\"'\"'C:\\\\Users\\\\Alien\\\\AppData\\\\Local\\\\Temp\\\\pip-install-ytk66akd\\\\shapely_2696fff1943d44238952947b8a577c5c\\\\setup.py'\"'\"'; __file__='\"'\"'C:\\\\Users\\\\Alien\\\\AppData\\\\Local\\\\Temp\\\\pip-install-ytk66akd\\\\shapely_2696fff1943d44238952947b8a577c5c\\\\setup.py'\"'\"';f=getattr(tokenize, '\"'\"'open'\"'\"', open)(__file__);code=f.read().replace('\"'\"'\\r\\n'\"'\"', '\"'\"'\\n'\"'\"');f.close();exec(compile(code, __file__, '\"'\"'exec'\"'\"'))' egg_info --egg-base 'C:\\Users\\Alien\\AppData\\Local\\Temp\\pip-pip-egg-info-4mq9qej_'\n",
      "         cwd: C:\\Users\\Alien\\AppData\\Local\\Temp\\pip-install-ytk66akd\\shapely_2696fff1943d44238952947b8a577c5c\\\n",
      "    Complete output (9 lines):\n",
      "    Traceback (most recent call last):\n",
      "      File \"<string>\", line 1, in <module>\n",
      "      File \"C:\\Users\\Alien\\AppData\\Local\\Temp\\pip-install-ytk66akd\\shapely_2696fff1943d44238952947b8a577c5c\\setup.py\", line 80, in <module>\n",
      "        from shapely._buildcfg import geos_version_string, geos_version, \\\n",
      "      File \"C:\\Users\\Alien\\AppData\\Local\\Temp\\pip-install-ytk66akd\\shapely_2696fff1943d44238952947b8a577c5c\\shapely\\_buildcfg.py\", line 200, in <module>\n",
      "        lgeos = CDLL(\"geos_c.dll\")\n",
      "      File \"C:\\Users\\Alien\\anaconda3\\lib\\ctypes\\__init__.py\", line 381, in __init__\n",
      "        self._handle = _dlopen(self._name, mode)\n",
      "    FileNotFoundError: Could not find module 'geos_c.dll' (or one of its dependencies). Try using the full path with constructor syntax.\n",
      "    ----------------------------------------\n",
      "WARNING: Discarding https://files.pythonhosted.org/packages/c0/10/1457c46e20b509108a32a5776141d78d410161dae8ab8da74efe67c530eb/Shapely-1.6.3.tar.gz#sha256=14152f111c7711fc6756fd538ec12fc8cdde7419f869b244922f71f61b2a6c6b (from https://pypi.org/simple/shapely/). Command errored out with exit status 1: python setup.py egg_info Check the logs for full command output.\n",
      "ERROR: Could not find a version that satisfies the requirement shapely==1.6.3\n",
      "ERROR: No matching distribution found for shapely==1.6.3\n"
     ]
    }
   ],
   "source": [
    "!pip install plotly-geo==1.0.0\n",
    "!pip install geopandas==0.3.0\n",
    "!pip install pyshp==1.2.10\n",
    "!pip install shapely==1.6.3"
   ]
  },
  {
   "cell_type": "code",
   "execution_count": 7,
   "id": "7186f1a0",
   "metadata": {},
   "outputs": [
    {
     "ename": "ModuleNotFoundError",
     "evalue": "No module named 'plotly'",
     "output_type": "error",
     "traceback": [
      "\u001b[1;31m---------------------------------------------------------------------------\u001b[0m",
      "\u001b[1;31mModuleNotFoundError\u001b[0m                       Traceback (most recent call last)",
      "\u001b[1;32m<ipython-input-7-e78259f8eb47>\u001b[0m in \u001b[0;36m<module>\u001b[1;34m\u001b[0m\n\u001b[1;32m----> 1\u001b[1;33m \u001b[1;32mimport\u001b[0m \u001b[0mplotly\u001b[0m\u001b[1;33m.\u001b[0m\u001b[0mfigure_factory\u001b[0m \u001b[1;32mas\u001b[0m \u001b[0mff\u001b[0m\u001b[1;33m\u001b[0m\u001b[1;33m\u001b[0m\u001b[0m\n\u001b[0m\u001b[0;32m      2\u001b[0m \u001b[1;33m\u001b[0m\u001b[0m\n\u001b[0;32m      3\u001b[0m \u001b[1;32mimport\u001b[0m \u001b[0mnumpy\u001b[0m \u001b[1;32mas\u001b[0m \u001b[0mnp\u001b[0m\u001b[1;33m\u001b[0m\u001b[1;33m\u001b[0m\u001b[0m\n\u001b[0;32m      4\u001b[0m \u001b[1;32mimport\u001b[0m \u001b[0mpandas\u001b[0m \u001b[1;32mas\u001b[0m \u001b[0mpd\u001b[0m\u001b[1;33m\u001b[0m\u001b[1;33m\u001b[0m\u001b[0m\n\u001b[0;32m      5\u001b[0m \u001b[1;33m\u001b[0m\u001b[0m\n",
      "\u001b[1;31mModuleNotFoundError\u001b[0m: No module named 'plotly'"
     ]
    }
   ],
   "source": [
    "import plotly.figure_factory as ff\n",
    "\n",
    "import numpy as np\n",
    "import pandas as pd\n",
    "\n",
    "df_sample = pd.read_csv(\"WaterPro.csv\")\n",
    "df_sample_r = df_sample[df_sample['STNAME'] == 'Georgia']\n",
    "\n",
    "values = df_sample_r['TOT_POP'].tolist()\n",
    "fips = df_sample_r['FIPS'].tolist()\n",
    "\n",
    "endpts = list(np.mgrid[min(values):max(values):4j])\n",
    "colorscale = [\"#030512\",\"#1d1d3b\",\"#323268\",\"#3d4b94\",\"#3e6ab0\",\n",
    "              \"#4989bc\",\"#60a7c7\",\"#85c5d3\",\"#b7e0e4\",\"#eafcfd\"]\n",
    "fig = ff.create_choropleth(\n",
    "    fips=fips, values=values, scope=['Georgia'], show_state_data=True,\n",
    "    colorscale=colorscale, binning_endpoints=endpts, round_legend_values=True,\n",
    "    plot_bgcolor='rgb(229,229,229)',\n",
    "    paper_bgcolor='rgb(229,229,229)',\n",
    "    legend_title='Population by County',\n",
    "    county_outline={'color': 'rgb(255,255,255)', 'width': 0.5},\n",
    "    exponent_format=True,\n",
    ")\n",
    "fig.layout.template = None\n",
    "fig.show()"
   ]
  },
  {
   "cell_type": "code",
   "execution_count": null,
   "id": "bf4b304e",
   "metadata": {},
   "outputs": [],
   "source": [
    "fig = px.choropleth(fin_usa, locations='State', locationmode=\"USA-states\", scope=\"usa\", color=2013, range_color=(0, 50))\n",
    "fig.show()"
   ]
  },
  {
   "cell_type": "code",
   "execution_count": null,
   "id": "ceadc3d2",
   "metadata": {},
   "outputs": [],
   "source": [
    "conda install geopandas"
   ]
  },
  {
   "cell_type": "code",
   "execution_count": 30,
   "id": "cf54f5ef",
   "metadata": {},
   "outputs": [
    {
     "ename": "ModuleNotFoundError",
     "evalue": "No module named 'plotly'",
     "output_type": "error",
     "traceback": [
      "\u001b[1;31m---------------------------------------------------------------------------\u001b[0m",
      "\u001b[1;31mModuleNotFoundError\u001b[0m                       Traceback (most recent call last)",
      "\u001b[1;32m<ipython-input-30-69c04d7cfc9f>\u001b[0m in \u001b[0;36m<module>\u001b[1;34m\u001b[0m\n\u001b[1;32m----> 1\u001b[1;33m \u001b[1;32mimport\u001b[0m \u001b[0mplotly\u001b[0m\u001b[1;33m.\u001b[0m\u001b[0mexpress\u001b[0m \u001b[1;32mas\u001b[0m \u001b[0mpx\u001b[0m\u001b[1;33m\u001b[0m\u001b[1;33m\u001b[0m\u001b[0m\n\u001b[0m\u001b[0;32m      2\u001b[0m \u001b[1;33m\u001b[0m\u001b[0m\n\u001b[0;32m      3\u001b[0m \u001b[0mfig\u001b[0m \u001b[1;33m=\u001b[0m \u001b[0mpx\u001b[0m\u001b[1;33m.\u001b[0m\u001b[0mchoropleth\u001b[0m\u001b[1;33m(\u001b[0m\u001b[0mlocations\u001b[0m\u001b[1;33m=\u001b[0m\u001b[1;33m[\u001b[0m\u001b[1;34m\"CA\"\u001b[0m\u001b[1;33m,\u001b[0m \u001b[1;34m\"TX\"\u001b[0m\u001b[1;33m,\u001b[0m \u001b[1;34m\"NY\"\u001b[0m\u001b[1;33m]\u001b[0m\u001b[1;33m,\u001b[0m \u001b[0mlocationmode\u001b[0m\u001b[1;33m=\u001b[0m\u001b[1;34m\"USA-states\"\u001b[0m\u001b[1;33m,\u001b[0m \u001b[0mcolor\u001b[0m\u001b[1;33m=\u001b[0m\u001b[1;33m[\u001b[0m\u001b[1;36m1\u001b[0m\u001b[1;33m,\u001b[0m\u001b[1;36m2\u001b[0m\u001b[1;33m,\u001b[0m\u001b[1;36m3\u001b[0m\u001b[1;33m]\u001b[0m\u001b[1;33m,\u001b[0m \u001b[0mscope\u001b[0m\u001b[1;33m=\u001b[0m\u001b[1;34m\"usa\"\u001b[0m\u001b[1;33m)\u001b[0m\u001b[1;33m\u001b[0m\u001b[1;33m\u001b[0m\u001b[0m\n\u001b[0;32m      4\u001b[0m \u001b[0mfig\u001b[0m\u001b[1;33m.\u001b[0m\u001b[0mshow\u001b[0m\u001b[1;33m(\u001b[0m\u001b[1;33m)\u001b[0m\u001b[1;33m\u001b[0m\u001b[1;33m\u001b[0m\u001b[0m\n",
      "\u001b[1;31mModuleNotFoundError\u001b[0m: No module named 'plotly'"
     ]
    }
   ],
   "source": [
    "import plotly.express as px\n",
    "\n",
    "fig = px.choropleth(locations=[\"CA\", \"TX\", \"NY\"], locationmode=\"USA-states\", color=[1,2,3], scope=\"usa\")\n",
    "fig.show()"
   ]
  },
  {
   "cell_type": "code",
   "execution_count": 31,
   "id": "14526c4d",
   "metadata": {},
   "outputs": [
    {
     "ename": "ModuleNotFoundError",
     "evalue": "No module named 'plotly'",
     "output_type": "error",
     "traceback": [
      "\u001b[1;31m---------------------------------------------------------------------------\u001b[0m",
      "\u001b[1;31mModuleNotFoundError\u001b[0m                       Traceback (most recent call last)",
      "\u001b[1;32m<ipython-input-31-86e89bd44552>\u001b[0m in \u001b[0;36m<module>\u001b[1;34m\u001b[0m\n\u001b[1;32m----> 1\u001b[1;33m \u001b[1;32mimport\u001b[0m \u001b[0mplotly\u001b[0m\u001b[1;33m.\u001b[0m\u001b[0mexpress\u001b[0m \u001b[1;32mas\u001b[0m \u001b[0mpx\u001b[0m\u001b[1;33m\u001b[0m\u001b[1;33m\u001b[0m\u001b[0m\n\u001b[0m",
      "\u001b[1;31mModuleNotFoundError\u001b[0m: No module named 'plotly'"
     ]
    }
   ],
   "source": [
    "import plotly.express as px"
   ]
  },
  {
   "cell_type": "code",
   "execution_count": null,
   "id": "50748853",
   "metadata": {},
   "outputs": [],
   "source": []
  },
  {
   "cell_type": "code",
   "execution_count": null,
   "id": "b0871b96",
   "metadata": {},
   "outputs": [],
   "source": []
  },
  {
   "cell_type": "code",
   "execution_count": null,
   "id": "aff2d63c",
   "metadata": {},
   "outputs": [],
   "source": []
  },
  {
   "cell_type": "code",
   "execution_count": null,
   "id": "8f0195aa",
   "metadata": {},
   "outputs": [],
   "source": []
  },
  {
   "cell_type": "code",
   "execution_count": null,
   "id": "5f3f5e5d",
   "metadata": {},
   "outputs": [],
   "source": []
  }
 ],
 "metadata": {
  "kernelspec": {
   "display_name": "Python 3",
   "language": "python",
   "name": "python3"
  },
  "language_info": {
   "codemirror_mode": {
    "name": "ipython",
    "version": 3
   },
   "file_extension": ".py",
   "mimetype": "text/x-python",
   "name": "python",
   "nbconvert_exporter": "python",
   "pygments_lexer": "ipython3",
   "version": "3.8.8"
  }
 },
 "nbformat": 4,
 "nbformat_minor": 5
}
